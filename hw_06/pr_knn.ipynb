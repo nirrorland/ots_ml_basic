{
 "cells": [
  {
   "cell_type": "code",
   "execution_count": 84,
   "id": "efef9139",
   "metadata": {},
   "outputs": [],
   "source": [
    "import os\n",
    "import pandas as pd\n",
    "import numpy as np\n",
    "import seaborn_image as isns\n",
    "from pathlib import Path\n",
    "import imageio\n",
    "from PIL import Image\n",
    "import cv2\n",
    "from tqdm.notebook import tqdm\n",
    "import matplotlib.pyplot as plt\n",
    "from matplotlib.gridspec import GridSpec\n",
    "import random\n",
    "import seaborn as sb\n",
    "from sklearn.utils import shuffle\n",
    "from sklearn.preprocessing import LabelBinarizer\n",
    "from sklearn.model_selection import train_test_split\n",
    "from scipy.spatial import distance\n",
    "import imagehash\n",
    "from sklearn.cluster import KMeans\n",
    "from skimage.color import rgb2gray\n",
    "from sklearn.model_selection import GridSearchCV\n",
    "from sklearn import svm\n",
    "from sklearn import neighbors\n",
    "from sklearn import tree\n",
    "from sklearn import metrics\n",
    "from sklearn.model_selection import cross_val_score\n",
    "\n",
    "plt.rcParams['figure.figsize'] = [2.0, 2.0]\n",
    "plt.rcParams['figure.dpi'] = 80\n",
    "plt.style.use('ggplot')\n",
    "plt.rcParams[\"axes.grid\"] = False\n",
    "\n"
   ]
  },
  {
   "cell_type": "code",
   "execution_count": 5,
   "id": "92e1210c",
   "metadata": {},
   "outputs": [
    {
     "name": "stdout",
     "output_type": "stream",
     "text": [
      "./2750/Forest/Forest_864.jpg\n",
      "27000\n"
     ]
    }
   ],
   "source": [
    "files = []\n",
    "\n",
    "for dirname, _, filenames in os.walk('./2750'):\n",
    "    for filename in filenames:\n",
    "        if \".jpg\" in filename:\n",
    "            name = \"\" + os.path.join(dirname, filename)\n",
    "            files.append(name)\n",
    "            #print(name)\n",
    "\n",
    "\n",
    "print(files[0])\n",
    "print(len(files))\n",
    "            \n",
    "\n"
   ]
  },
  {
   "cell_type": "code",
   "execution_count": 6,
   "id": "e9f1bf1f",
   "metadata": {},
   "outputs": [
    {
     "name": "stdout",
     "output_type": "stream",
     "text": [
      "27000\n",
      "<class 'numpy.ndarray'>\n"
     ]
    }
   ],
   "source": [
    "raw_images = np.zeros([len(files),64, 64, 3])\n",
    "io_img = list()\n",
    "cv_img = []\n",
    "\n",
    "print(len(raw_images))\n",
    "print(type(raw_images))"
   ]
  },
  {
   "cell_type": "code",
   "execution_count": 7,
   "id": "80405b0b",
   "metadata": {
    "scrolled": true
   },
   "outputs": [
    {
     "name": "stdout",
     "output_type": "stream",
     "text": [
      "Loading completed\n",
      "AxesImage(20,20;124x120.8)\n"
     ]
    },
    {
     "data": {
      "image/png": "[encoded data removed]",
      "text/plain": [
       "<Figure size 160x160 with 1 Axes>"
      ]
     },
     "metadata": {},
     "output_type": "display_data"
    }
   ],
   "source": [
    "i=0\n",
    "for img in files:\n",
    "    #raw_images[i] = np.asarray(Image.open(Path(img))).astype('uint8')\n",
    "    raw_images[i] = np.asarray(Image.open(Path(img))).astype('uint8')/255\n",
    "    io_img.append(imageio.imread(Path(img)))\n",
    "    cv_img.append(cv2.cvtColor(cv2.imread(img), cv2.COLOR_BGR2RGB))\n",
    "    i = i+1\n",
    "    #raw_images[i].show()\n",
    "\n",
    "#print(raw_images[1])\n",
    "print('Loading completed')\n",
    "print(plt.imshow(io_img[0]))\n",
    "\n",
    "# If you want to show it, you can use img/255.\n",
    "\n",
    "# Or\n",
    "\n",
    "# np.array(img,np.int32)\n",
    "# The reason is that if the color intensity is a float, then matplotlib expects it to range from 0 to 1. If an int, then it expects 0 to 255. So you can either force all the numbers to int or scale them all by 1/255.\n"
   ]
  },
  {
   "cell_type": "code",
   "execution_count": 8,
   "id": "d5e0c59a",
   "metadata": {},
   "outputs": [
    {
     "name": "stdout",
     "output_type": "stream",
     "text": [
      "[b'Forest' b'Forest' b'Forest' ... b'Pasture' b'Pasture' b'Pasture']\n"
     ]
    }
   ],
   "source": [
    "labels = np.empty(len(files), dtype = 'S20')\n",
    "\n",
    "i = 0\n",
    "for label in files:\n",
    "    labels[i] = label.split('/')[2] #Mac\n",
    "#    labels[i] = label.split('\\\\')[1] #Windows\n",
    "    i += 1\n",
    "\n",
    "print(labels)"
   ]
  },
  {
   "cell_type": "code",
   "execution_count": 9,
   "id": "8b37c0ad",
   "metadata": {},
   "outputs": [
    {
     "name": "stdout",
     "output_type": "stream",
     "text": [
      "{0: b'AnnualCrop', 1: b'Forest', 2: b'HerbaceousVegetation', 3: b'Highway', 4: b'Industrial', 5: b'Pasture', 6: b'PermanentCrop', 7: b'Residential', 8: b'River', 9: b'SeaLake'}\n"
     ]
    },
    {
     "data": {
      "text/plain": [
       "array([[   0,    1,    2,    3,    4,    5,    6,    7,    8,    9],\n",
       "       [3000, 3000, 3000, 2500, 2500, 2000, 2500, 3000, 2500, 3000]])"
      ]
     },
     "execution_count": 9,
     "metadata": {},
     "output_type": "execute_result"
    }
   ],
   "source": [
    "# change them to integers in alphabetical order\n",
    "label_names, yLabels = np.unique(labels, return_inverse=True)\n",
    "\n",
    "label_Dict = dict(zip(np.unique(yLabels), label_names))\n",
    "print(label_Dict)\n",
    "np.array(np.unique(yLabels, return_counts=True))"
   ]
  },
  {
   "cell_type": "code",
   "execution_count": 12,
   "id": "7bfd39fb",
   "metadata": {
    "scrolled": true
   },
   "outputs": [
    {
     "name": "stdout",
     "output_type": "stream",
     "text": [
      "0\n",
      "b'AnnualCrop'\n",
      "raw:\n"
     ]
    },
    {
     "data": {
      "image/png": "[encoded data removed]",
      "text/plain": [
       "<Figure size 160x160 with 1 Axes>"
      ]
     },
     "metadata": {},
     "output_type": "display_data"
    }
   ],
   "source": [
    "# test that the labels and images read in properly\n",
    "tmp = 9999\n",
    "#img = raw_images[tmp]\n",
    "img = io_img[tmp]\n",
    "\n",
    "print(yLabels[tmp])\n",
    "print(label_names[yLabels[tmp]])\n",
    "print(\"raw:\")\n",
    "#print(img)\n",
    "#pplt.imshow(img);\n",
    "plt.imshow(img.astype('uint8'));\n"
   ]
  },
  {
   "cell_type": "code",
   "execution_count": 13,
   "id": "13414f1a",
   "metadata": {
    "scrolled": true
   },
   "outputs": [
    {
     "name": "stdout",
     "output_type": "stream",
     "text": [
      "io:\n",
      "(3,)\n"
     ]
    },
    {
     "data": {
      "text/plain": [
       "<matplotlib.image.AxesImage at 0x7fde884a6f40>"
      ]
     },
     "execution_count": 13,
     "metadata": {},
     "output_type": "execute_result"
    },
    {
     "data": {
      "image/png": "[encoded data removed]",
      "text/plain": [
       "<Figure size 160x160 with 1 Axes>"
      ]
     },
     "metadata": {},
     "output_type": "display_data"
    }
   ],
   "source": [
    "print(\"io:\")\n",
    "print(raw_images[tmp][1,1,].shape)\n",
    "plt.imshow(io_img[tmp])\n",
    "#isns.imgplot(raw_images[tmp], Describe=True)"
   ]
  },
  {
   "cell_type": "code",
   "execution_count": 14,
   "id": "59c32030",
   "metadata": {
    "scrolled": true
   },
   "outputs": [
    {
     "data": {
      "text/plain": [
       "<seaborn_image._grid.ImageGrid at 0x7fde884c0e80>"
      ]
     },
     "execution_count": 14,
     "metadata": {},
     "output_type": "execute_result"
    },
    {
     "data": {
      "image/png": "[encoded data removed]",
      "text/plain": [
       "<Figure size 720x240 with 6 Axes>"
      ]
     },
     "metadata": {},
     "output_type": "display_data"
    }
   ],
   "source": [
    "isns.rgbplot(io_img[tmp])"
   ]
  },
  {
   "cell_type": "code",
   "execution_count": 15,
   "id": "5dffff07",
   "metadata": {
    "scrolled": false
   },
   "outputs": [],
   "source": [
    "X_train, X_test, y_train, y_test = train_test_split(io_img, yLabels, stratify = yLabels, train_size = 0.5, random_state=42)"
   ]
  },
  {
   "cell_type": "code",
   "execution_count": 16,
   "id": "beff6108",
   "metadata": {},
   "outputs": [
    {
     "data": {
      "text/plain": [
       "(64, 64, 3)"
      ]
     },
     "execution_count": 16,
     "metadata": {},
     "output_type": "execute_result"
    }
   ],
   "source": [
    "io_img[1].shape\n"
   ]
  },
  {
   "cell_type": "code",
   "execution_count": 17,
   "id": "f15ec10d",
   "metadata": {},
   "outputs": [
    {
     "data": {
      "text/plain": [
       "Array([41, 69, 81], dtype=uint8)"
      ]
     },
     "execution_count": 17,
     "metadata": {},
     "output_type": "execute_result"
    }
   ],
   "source": [
    "io_img[1][1,1]"
   ]
  },
  {
   "cell_type": "code",
   "execution_count": 18,
   "id": "fc4d60c5",
   "metadata": {},
   "outputs": [
    {
     "data": {
      "text/plain": [
       "array([0.16078431, 0.27058824, 0.31764706])"
      ]
     },
     "execution_count": 18,
     "metadata": {},
     "output_type": "execute_result"
    }
   ],
   "source": [
    "raw_images[1][1,1]"
   ]
  },
  {
   "cell_type": "code",
   "execution_count": 19,
   "id": "eafd9d40",
   "metadata": {},
   "outputs": [
    {
     "data": {
      "text/plain": [
       "array([41, 69, 81], dtype=uint8)"
      ]
     },
     "execution_count": 19,
     "metadata": {},
     "output_type": "execute_result"
    }
   ],
   "source": [
    "cv_img[1][1,1]"
   ]
  },
  {
   "cell_type": "code",
   "execution_count": 20,
   "id": "dacbd99d",
   "metadata": {},
   "outputs": [
    {
     "data": {
      "text/plain": [
       "dtype('float64')"
      ]
     },
     "execution_count": 20,
     "metadata": {},
     "output_type": "execute_result"
    }
   ],
   "source": [
    "raw_images[1][1,1,0].dtype"
   ]
  },
  {
   "cell_type": "code",
   "execution_count": 21,
   "id": "669efb9e",
   "metadata": {},
   "outputs": [
    {
     "data": {
      "text/plain": [
       "dtype('uint8')"
      ]
     },
     "execution_count": 21,
     "metadata": {},
     "output_type": "execute_result"
    }
   ],
   "source": [
    "io_img[1][1,1,0].dtype"
   ]
  },
  {
   "cell_type": "code",
   "execution_count": 22,
   "id": "ba809434",
   "metadata": {
    "scrolled": true
   },
   "outputs": [
    {
     "data": {
      "text/plain": [
       "<matplotlib.image.AxesImage at 0x7fde883f2ac0>"
      ]
     },
     "execution_count": 22,
     "metadata": {},
     "output_type": "execute_result"
    },
    {
     "data": {
      "image/png": "[encoded data removed]",
      "text/plain": [
       "<Figure size 160x160 with 1 Axes>"
      ]
     },
     "metadata": {},
     "output_type": "display_data"
    }
   ],
   "source": [
    "img = io_img[tmp]\n",
    "plt.imshow(img)"
   ]
  },
  {
   "cell_type": "code",
   "execution_count": 23,
   "id": "12a52797",
   "metadata": {
    "scrolled": true
   },
   "outputs": [],
   "source": [
    "red1 = np.zeros_like(io_img[tmp])\n",
    "red1[:,:,0] = io_img[tmp][:,:,0] \n",
    "#red1.shape"
   ]
  },
  {
   "cell_type": "code",
   "execution_count": 24,
   "id": "c57b70b4",
   "metadata": {
    "scrolled": false
   },
   "outputs": [
    {
     "data": {
      "text/plain": [
       "<matplotlib.image.AxesImage at 0x7fde883d0370>"
      ]
     },
     "execution_count": 24,
     "metadata": {},
     "output_type": "execute_result"
    },
    {
     "data": {
      "image/png": "[encoded data removed]",
      "text/plain": [
       "<Figure size 160x160 with 1 Axes>"
      ]
     },
     "metadata": {},
     "output_type": "display_data"
    }
   ],
   "source": [
    "plt.imshow(red1)"
   ]
  },
  {
   "cell_type": "code",
   "execution_count": 25,
   "id": "2131fec2",
   "metadata": {
    "scrolled": true
   },
   "outputs": [],
   "source": [
    "green = np.zeros_like(io_img[tmp])\n",
    "green[:,:,1] = img[:,:,1] "
   ]
  },
  {
   "cell_type": "code",
   "execution_count": 26,
   "id": "ca1ef0e2",
   "metadata": {},
   "outputs": [
    {
     "data": {
      "text/plain": [
       "<matplotlib.image.AxesImage at 0x7fde88771880>"
      ]
     },
     "execution_count": 26,
     "metadata": {},
     "output_type": "execute_result"
    },
    {
     "data": {
      "image/png": "[encoded data removed]",
      "text/plain": [
       "<Figure size 160x160 with 1 Axes>"
      ]
     },
     "metadata": {},
     "output_type": "display_data"
    }
   ],
   "source": [
    "plt.imshow(green)"
   ]
  },
  {
   "cell_type": "code",
   "execution_count": 27,
   "id": "cf44ce9b",
   "metadata": {},
   "outputs": [],
   "source": [
    "blue = np.zeros_like(io_img[tmp])\n",
    "blue[:,:,2] = img[:,:,2] "
   ]
  },
  {
   "cell_type": "code",
   "execution_count": 28,
   "id": "c17d3c0b",
   "metadata": {
    "scrolled": false
   },
   "outputs": [
    {
     "data": {
      "text/plain": [
       "<matplotlib.image.AxesImage at 0x7fde882e5e20>"
      ]
     },
     "execution_count": 28,
     "metadata": {},
     "output_type": "execute_result"
    },
    {
     "data": {
      "image/png": "[encoded data removed]",
      "text/plain": [
       "<Figure size 160x160 with 1 Axes>"
      ]
     },
     "metadata": {},
     "output_type": "display_data"
    }
   ],
   "source": [
    "plt.imshow(blue)"
   ]
  },
  {
   "cell_type": "code",
   "execution_count": 29,
   "id": "6cdfb0bc",
   "metadata": {},
   "outputs": [],
   "source": [
    "def get_channel(pic1, ch):\n",
    "    ch1 = np.zeros_like(pic1)\n",
    "    ch1[:,:,ch] = pic1[:,:, ch]\n",
    "    return ch1\n",
    "\n",
    "def get_red_channel(pic):\n",
    "    #red1 = np.zeros_like(pic)\n",
    "    #red1[:,:,0] = pic[:,:,0]\n",
    "    return get_channel(pic, 0)\n",
    "\n",
    "def get_green_channel(pic):\n",
    "    #green1 = np.zeros_like(pic)\n",
    "    #green1[:,:,1] = pic[:,:,1]\n",
    "    return get_channel(pic, 1)\n",
    "\n",
    "def get_blue_channel(pic):\n",
    "    #blue1 = np.zeros_like(pic)\n",
    "    #blue1[:,:,2] = pic[:,:,2]\n",
    "    return get_channel(pic, 2)\n",
    "\n",
    "def get_red_channel_only(pic):\n",
    "    #red1 = np.zeros_like(pic)\n",
    "    #red1[:,:,0] = pic[:,:,0]\n",
    "    return get_channel(pic, 0)[:,:,0]\n",
    "\n",
    "def get_green_channel_only(pic):\n",
    "    #green1 = np.zeros_like(pic)\n",
    "    #green1[:,:,1] = pic[:,:,1]\n",
    "    return get_channel(pic, 1)[:,:,1]\n",
    "\n",
    "def get_blue_channel_only(pic):\n",
    "    #blue1 = np.zeros_like(pic)\n",
    "    #blue1[:,:,2] = pic[:,:,2]\n",
    "    return get_channel(pic, 2)[:,:,2]\n",
    "\n",
    "def display_blue(pic):\n",
    "    #blue1 = np.zeros_like(io[i])\n",
    "    #blue1[:,:,2] = img[:,:,2]\n",
    "    blue1 = get_blue_channel(pic)\n",
    "    plt.imshow(blue1)\n",
    "    \n",
    "def display_green(pic):\n",
    "    #green1 = np.zeros_like(io[i])\n",
    "    #green1[:,:,1] = img[:,:,1]\n",
    "    green1 = get_green_channel(pic)\n",
    "    plt.imshow(green1)\n",
    "    \n",
    "def display_red(pic):\n",
    "    red1 = get_red_channel(pic)\n",
    "    plt.imshow(red1)\n",
    "\n",
    "def element_tuple_idx(arr, tpl):\n",
    "    idx0 = tpl[0]\n",
    "    idx1 = tpl[1]\n",
    "    idx2 = tpl[2]\n",
    "    idx3 = tpl[3]\n",
    "    return arr[idx0, idx1, idx2, idx3]\n",
    "\n",
    "def draw_image_with_idx(draw_idx):\n",
    "    plt.imshow(io_img[draw_idx])\n",
    "    \n",
    "def find_max_px_by_channel(pic, ch):\n",
    "    mx = pic[:,:,ch];\n",
    "    return mx.max()\n",
    "\n",
    "def find_min_px_by_channel(pic, ch):\n",
    "    mn = pic[:,:,ch];\n",
    "    return mn.min()\n",
    "\n",
    "def get_max_px_coord_by_channel(pic, ch):\n",
    "    ch2 = pic[:,:, ch]\n",
    "    return np.unravel_index(ch2.argmax(), ch2.shape)\n",
    "\n",
    "def get_min_px_coord_by_channel(pic, ch):\n",
    "    ch2 = pic[:,:, ch]\n",
    "    return np.unravel_index(ch2.argmin(), ch2.shape)\n",
    "\n",
    "def find_max(pic):\n",
    "    br = pic.sum(axis=2)\n",
    "    return br.max()\n",
    "\n",
    "def find_min(pic):\n",
    "    br = pic.sum(axis=2)\n",
    "    return br.min()\n",
    "\n",
    "def get_max_coord(pic):\n",
    "    br = pic.sum(axis=2)\n",
    "    return np.unravel_index(br.argmax(), br.shape)\n",
    "\n",
    "def get_min_coord(pic):\n",
    "    br = pic.sum(axis=2)\n",
    "    return np.unravel_index(br.argmin(), br.shape)\n",
    "\n",
    "def get_sum_channels(pic):\n",
    "    ch1 = pic[:,:, 0].flatten().sum()\n",
    "    ch2 = pic[:,:, 1].flatten().sum()\n",
    "    ch3 = pic[:,:, 2].flatten().sum()\n",
    "    return ch1, ch2, ch3\n",
    "\n",
    "def get_mean_channels(pic):\n",
    "    ch1 = np.around(pic[:,:, 0].flatten().mean(), decimals = 3)\n",
    "    ch2 = np.around(pic[:,:, 1].flatten().mean(), decimals = 3)\n",
    "    ch3 = np.around(pic[:,:, 2].flatten().mean(), decimals = 3)\n",
    "    return ch1, ch2, ch3\n",
    "\n",
    "def get_median_channels(pic):\n",
    "    ch1 = np.median(pic[:,:, 0].flatten())\n",
    "    ch2 = np.median(pic[:,:, 1].flatten())\n",
    "    ch3 = np.median(pic[:,:, 2].flatten())\n",
    "    return ch1, ch2, ch3\n",
    "\n",
    "def get_distance(x, y):\n",
    "    return distance.euclidean(x, y)\n",
    "\n",
    "def get_distance_red(pic):\n",
    "    return get_distance(get_max_px_coord_by_channel(pic, 0), get_min_px_coord_by_channel(pic, 0))\n",
    "\n",
    "def get_distance_green(pic):\n",
    "    return get_distance(get_max_px_coord_by_channel(pic, 1), get_min_px_coord_by_channel(pic, 1))\n",
    "\n",
    "def get_distance_blue(pic):\n",
    "    return get_distance(get_max_px_coord_by_channel(pic, 2), get_min_px_coord_by_channel(pic, 2))\n",
    "\n",
    "def get_multy_distance(pic):\n",
    "    return get_distance(get_max_coord(pic), get_min_coord(pic))\n",
    "\n",
    "#Luminance (standard for certain colour spaces): (0.2126*R + 0.7152*G + 0.0722*B)\n",
    "def lum(px):\n",
    "    return 0.2126*px[0]+0.7152*px[1]+0.0722*px[2]\n",
    "\n",
    "def lum_max(pic):\n",
    "    lm = np.apply_along_axis(lum, 2, pic)\n",
    "    return lm.max()\n",
    "\n",
    "def lum_min(pic):\n",
    "    lm = np.apply_along_axis(lum, 2, pic)\n",
    "    return lm.min()\n",
    "\n",
    "def lum_distance(pic):\n",
    "    lm = np.apply_along_axis(lum, 2, pic)\n",
    "    return get_distance(np.unravel_index(lm.argmax(), lm.shape), np.unravel_index(lm.argmin(), lm.shape))\n",
    "\n",
    "def get_dominant_color(pic):\n",
    "    pi = Image.fromarray(pic)\n",
    "    pi = pi.resize((1, 1), resample=0)\n",
    "    r = np.asarray(pi.getpixel((0, 0))).astype('uint8')\n",
    "    return r[0], r[1], r[2]\n",
    "    \n",
    "def get_hist_data_by_index(img_index):\n",
    "    bin_div = 5\n",
    "    img = io_img[img_index]\n",
    "    r, bins =  np.histogram(img[:,:,0], bins=255//bin_div, range=(0,255), density=True)\n",
    "    g = np.histogram(img[:,:,1], bins=255//bin_div, range=(0,255), density=True)[0]\n",
    "    b = np.histogram(img[:,:,2], bins=255//bin_div, range=(0,255), density=True)[0]\n",
    "    return bins, r, g, b\n",
    "\n",
    "\n",
    "def plot_image_by_index(img_index, height=6):\n",
    "    img = io[img_index]\n",
    "    sb.histplot(data=penguins, y=\"flipper_length_mm\")"
   ]
  },
  {
   "cell_type": "code",
   "execution_count": 30,
   "id": "bd1dd321",
   "metadata": {},
   "outputs": [
    {
     "data": {
      "text/plain": [
       "<matplotlib.image.AxesImage at 0x7fde887dd400>"
      ]
     },
     "execution_count": 30,
     "metadata": {},
     "output_type": "execute_result"
    },
    {
     "data": {
      "image/png": "[encoded data removed]",
      "text/plain": [
       "<Figure size 160x160 with 1 Axes>"
      ]
     },
     "metadata": {},
     "output_type": "display_data"
    }
   ],
   "source": [
    "plt.imshow(get_red_channel(io_img[tmp]))"
   ]
  },
  {
   "cell_type": "code",
   "execution_count": 31,
   "id": "c10961c1",
   "metadata": {},
   "outputs": [
    {
     "data": {
      "text/plain": [
       "(64, 64, 3)"
      ]
     },
     "execution_count": 31,
     "metadata": {},
     "output_type": "execute_result"
    }
   ],
   "source": [
    "# most red pic\n",
    "io_img[1].shape"
   ]
  },
  {
   "cell_type": "code",
   "execution_count": 32,
   "id": "9600f8fb",
   "metadata": {},
   "outputs": [],
   "source": [
    "#pics = np.asarray(io_img)\n",
    "#pics.shape"
   ]
  },
  {
   "cell_type": "code",
   "execution_count": 33,
   "id": "2946c8f7",
   "metadata": {},
   "outputs": [
    {
     "data": {
      "text/plain": [
       "27000"
      ]
     },
     "execution_count": 33,
     "metadata": {},
     "output_type": "execute_result"
    }
   ],
   "source": [
    "len(io_img)"
   ]
  },
  {
   "cell_type": "code",
   "execution_count": 34,
   "id": "59680467",
   "metadata": {},
   "outputs": [
    {
     "data": {
      "text/plain": [
       "241"
      ]
     },
     "execution_count": 34,
     "metadata": {},
     "output_type": "execute_result"
    }
   ],
   "source": [
    "mx = io_img[tmp][:,:,0]\n",
    "#mx = mx.reshape(*mx.shape[:-2], -1)\n",
    "#mx.flatten().shape\n",
    "#mx.shape\n",
    "#mx[mx.argmax()]\n",
    "mx.max()"
   ]
  },
  {
   "cell_type": "code",
   "execution_count": 35,
   "id": "79c0c075",
   "metadata": {},
   "outputs": [
    {
     "data": {
      "text/plain": [
       "(29, 59)"
      ]
     },
     "execution_count": 35,
     "metadata": {},
     "output_type": "execute_result"
    }
   ],
   "source": [
    "maxRed = get_red_channel_only(io_img[tmp])\n",
    "maxRed.argmax()\n",
    "np.unravel_index(maxRed.argmax(), maxRed.shape)"
   ]
  },
  {
   "cell_type": "code",
   "execution_count": 36,
   "id": "51610fd7",
   "metadata": {},
   "outputs": [
    {
     "data": {
      "text/plain": [
       "57"
      ]
     },
     "execution_count": 36,
     "metadata": {},
     "output_type": "execute_result"
    }
   ],
   "source": [
    "maxRed[39,2]"
   ]
  },
  {
   "cell_type": "code",
   "execution_count": 37,
   "id": "1419d805",
   "metadata": {},
   "outputs": [
    {
     "data": {
      "text/plain": [
       "Array([56, 78, 89], dtype=uint8)"
      ]
     },
     "execution_count": 37,
     "metadata": {},
     "output_type": "execute_result"
    }
   ],
   "source": [
    "io_img[tmp][38,3]"
   ]
  },
  {
   "cell_type": "code",
   "execution_count": 38,
   "id": "5450cfd3",
   "metadata": {},
   "outputs": [
    {
     "data": {
      "text/plain": [
       "(7, 46)"
      ]
     },
     "execution_count": 38,
     "metadata": {},
     "output_type": "execute_result"
    }
   ],
   "source": [
    "x = get_max_px_coord_by_channel(io_img[tmp], 2);\n",
    "x"
   ]
  },
  {
   "cell_type": "code",
   "execution_count": 39,
   "id": "11438591",
   "metadata": {},
   "outputs": [
    {
     "data": {
      "text/plain": [
       "(8, 34)"
      ]
     },
     "execution_count": 39,
     "metadata": {},
     "output_type": "execute_result"
    }
   ],
   "source": [
    "y = get_min_px_coord_by_channel(io_img[tmp], 2)\n",
    "y"
   ]
  },
  {
   "cell_type": "code",
   "execution_count": 40,
   "id": "1c1dfc1c",
   "metadata": {},
   "outputs": [
    {
     "data": {
      "text/plain": [
       "(423897, 425484, 422333)"
      ]
     },
     "execution_count": 40,
     "metadata": {},
     "output_type": "execute_result"
    }
   ],
   "source": [
    "#get sum of each channel (R,G,B)\n",
    "su = get_sum_channels(io_img[tmp])\n",
    "su"
   ]
  },
  {
   "cell_type": "code",
   "execution_count": 41,
   "id": "de6ea687",
   "metadata": {},
   "outputs": [
    {
     "data": {
      "text/plain": [
       "(103.49, 103.878, 103.109)"
      ]
     },
     "execution_count": 41,
     "metadata": {},
     "output_type": "execute_result"
    }
   ],
   "source": [
    "me = get_mean_channels(io_img[tmp])\n",
    "me"
   ]
  },
  {
   "cell_type": "code",
   "execution_count": 42,
   "id": "a027ed95",
   "metadata": {},
   "outputs": [
    {
     "data": {
      "text/plain": [
       "12.041594578792296"
      ]
     },
     "execution_count": 42,
     "metadata": {},
     "output_type": "execute_result"
    }
   ],
   "source": [
    "dst = distance.euclidean(x, y)\n",
    "dst"
   ]
  },
  {
   "cell_type": "code",
   "execution_count": 43,
   "id": "8e6653f7",
   "metadata": {},
   "outputs": [
    {
     "ename": "NameError",
     "evalue": "name 'pic' is not defined",
     "output_type": "error",
     "traceback": [
      "\u001b[0;31m---------------------------------------------------------------------------\u001b[0m",
      "\u001b[0;31mNameError\u001b[0m                                 Traceback (most recent call last)",
      "\u001b[0;32m/var/folders/hd/064n0ldn5sj5xzrky804p14w1m0rkm/T/ipykernel_30489/713064996.py\u001b[0m in \u001b[0;36m<module>\u001b[0;34m\u001b[0m\n\u001b[0;32m----> 1\u001b[0;31m \u001b[0mdst2\u001b[0m \u001b[0;34m=\u001b[0m \u001b[0mget_distance_red\u001b[0m\u001b[0;34m(\u001b[0m\u001b[0mpic\u001b[0m\u001b[0;34m)\u001b[0m\u001b[0;34m\u001b[0m\u001b[0;34m\u001b[0m\u001b[0m\n\u001b[0m\u001b[1;32m      2\u001b[0m \u001b[0mdst2\u001b[0m\u001b[0;34m\u001b[0m\u001b[0;34m\u001b[0m\u001b[0m\n",
      "\u001b[0;31mNameError\u001b[0m: name 'pic' is not defined"
     ]
    }
   ],
   "source": [
    "dst2 = get_distance_red(pic)\n",
    "dst2"
   ]
  },
  {
   "cell_type": "code",
   "execution_count": 273,
   "id": "4ec41938",
   "metadata": {},
   "outputs": [
    {
     "data": {
      "text/plain": [
       "21.95449840010015"
      ]
     },
     "execution_count": 273,
     "metadata": {},
     "output_type": "execute_result"
    }
   ],
   "source": [
    "dst3 = get_multy_distance(pic)\n",
    "dst3"
   ]
  },
  {
   "cell_type": "code",
   "execution_count": 274,
   "id": "232b8f19",
   "metadata": {},
   "outputs": [
    {
     "data": {
      "text/plain": [
       "42.44997055358225"
      ]
     },
     "execution_count": 274,
     "metadata": {},
     "output_type": "execute_result"
    }
   ],
   "source": [
    "dst4 = lum_distance(pic)\n",
    "dst4"
   ]
  },
  {
   "cell_type": "code",
   "execution_count": 44,
   "id": "0e7b6d4c",
   "metadata": {
    "scrolled": true
   },
   "outputs": [
    {
     "data": {
      "image/png": "[encoded data removed]",
      "text/plain": [
       "<Figure size 160x160 with 1 Axes>"
      ]
     },
     "metadata": {},
     "output_type": "display_data"
    }
   ],
   "source": [
    "draw_image_with_idx(tmp)"
   ]
  },
  {
   "cell_type": "code",
   "execution_count": 45,
   "id": "4e0866bf",
   "metadata": {
    "scrolled": false
   },
   "outputs": [
    {
     "data": {
      "image/png": "[encoded data removed]",
      "text/plain": [
       "<Figure size 160x160 with 1 Axes>"
      ]
     },
     "metadata": {},
     "output_type": "display_data"
    }
   ],
   "source": [
    "red = np.zeros_like(io_img[tmp])\n",
    "red[:,:,0] = img[:,:,0] \n",
    "plt.imshow(red)\n",
    "plt.show()"
   ]
  },
  {
   "cell_type": "code",
   "execution_count": 46,
   "id": "6b772fd4",
   "metadata": {},
   "outputs": [
    {
     "ename": "NameError",
     "evalue": "name 'pics' is not defined",
     "output_type": "error",
     "traceback": [
      "\u001b[0;31m---------------------------------------------------------------------------\u001b[0m",
      "\u001b[0;31mNameError\u001b[0m                                 Traceback (most recent call last)",
      "\u001b[0;32m/var/folders/hd/064n0ldn5sj5xzrky804p14w1m0rkm/T/ipykernel_30489/799176420.py\u001b[0m in \u001b[0;36m<module>\u001b[0;34m\u001b[0m\n\u001b[0;32m----> 1\u001b[0;31m \u001b[0mpics\u001b[0m\u001b[0;34m[\u001b[0m\u001b[0;36m71\u001b[0m\u001b[0;34m,\u001b[0m\u001b[0;34m:\u001b[0m\u001b[0;34m,\u001b[0m\u001b[0;34m:\u001b[0m\u001b[0;34m,\u001b[0m\u001b[0;36m0\u001b[0m\u001b[0;34m]\u001b[0m\u001b[0;34m.\u001b[0m\u001b[0mflatten\u001b[0m\u001b[0;34m(\u001b[0m\u001b[0;34m)\u001b[0m\u001b[0;34m.\u001b[0m\u001b[0mshape\u001b[0m\u001b[0;34m\u001b[0m\u001b[0;34m\u001b[0m\u001b[0m\n\u001b[0m",
      "\u001b[0;31mNameError\u001b[0m: name 'pics' is not defined"
     ]
    }
   ],
   "source": [
    "pics[71,:,:,0].flatten().shape"
   ]
  },
  {
   "cell_type": "code",
   "execution_count": 47,
   "id": "c4af116b",
   "metadata": {},
   "outputs": [],
   "source": [
    "#######K_Means clusters#########"
   ]
  },
  {
   "cell_type": "code",
   "execution_count": 48,
   "id": "c420e504",
   "metadata": {},
   "outputs": [],
   "source": [
    "def visualize_colors(cluster, centroids):\n",
    "    # Get the number of different clusters, create histogram, and normalize\n",
    "    labels = np.arange(0, len(np.unique(cluster.labels_)) + 1)\n",
    "    (hist, _) = np.histogram(cluster.labels_, bins = labels)\n",
    "    hist = hist.astype(\"float\")\n",
    "    hist /= hist.sum()\n",
    "\n",
    "    # Create frequency rect and iterate through each cluster's color and percentage\n",
    "    rect = np.zeros((50, 300, 3), dtype=np.uint8)\n",
    "    colors = sorted([(percent, color) for (percent, color) in zip(hist, centroids)])\n",
    "    start = 0\n",
    "    for (percent, color) in colors:\n",
    "        print(color, \"{:0.2f}%\".format(percent * 100))\n",
    "        end = start + (percent * 300)\n",
    "        cv2.rectangle(rect, (int(start), 0), (int(end), 50), \\\n",
    "                      color.astype(\"uint8\").tolist(), -1)\n",
    "        start = end\n",
    "    return rect"
   ]
  },
  {
   "cell_type": "code",
   "execution_count": 49,
   "id": "86340d18",
   "metadata": {},
   "outputs": [
    {
     "data": {
      "text/plain": [
       "(4096, 3)"
      ]
     },
     "execution_count": 49,
     "metadata": {},
     "output_type": "execute_result"
    }
   ],
   "source": [
    "pic = io_img[tmp]\n",
    "reshape = pic.reshape((pic.shape[0] * pic.shape[1], 3))\n",
    "reshape.shape"
   ]
  },
  {
   "cell_type": "code",
   "execution_count": 50,
   "id": "e9db37d9",
   "metadata": {},
   "outputs": [
    {
     "data": {
      "text/plain": [
       "KMeans(n_clusters=5)"
      ]
     },
     "execution_count": 50,
     "metadata": {},
     "output_type": "execute_result"
    }
   ],
   "source": [
    "cluster = KMeans(n_clusters=5).fit(reshape)\n",
    "cluster"
   ]
  },
  {
   "cell_type": "code",
   "execution_count": 51,
   "id": "dfda52bf",
   "metadata": {},
   "outputs": [
    {
     "name": "stdout",
     "output_type": "stream",
     "text": [
      "[104.94897959 100.8622449  102.8877551 ] 4.79%\n",
      "[145.45614035 120.26817043 118.27067669] 9.77%\n",
      "[197.05513514 138.89945946 127.50918919] 22.58%\n",
      "[58.02723005 78.18591549 88.27605634] 26.00%\n",
      "[66.98544011 96.61019193 94.65056254] 36.87%\n"
     ]
    },
    {
     "data": {
      "image/png": "[encoded data removed]",
      "text/plain": [
       "<Figure size 160x160 with 1 Axes>"
      ]
     },
     "metadata": {},
     "output_type": "display_data"
    }
   ],
   "source": [
    "visualize = visualize_colors(cluster, cluster.cluster_centers_)\n",
    "plt.imshow(visualize)\n",
    "plt.show()"
   ]
  },
  {
   "cell_type": "code",
   "execution_count": 52,
   "id": "e0af0480",
   "metadata": {
    "scrolled": true
   },
   "outputs": [
    {
     "data": {
      "image/png": "[encoded data removed]",
      "text/plain": [
       "<Figure size 160x160 with 1 Axes>"
      ]
     },
     "metadata": {},
     "output_type": "display_data"
    }
   ],
   "source": [
    "# А теперь посмотрим, какой у нас получился доминантный цвет при сжатии картинки до 1 пикселя\n",
    "# Похоже на правду. Пока будем использовать его\n",
    "pic = io_img[tmp]\n",
    "dc = get_dominant_color(pic)\n",
    "ppx = np.zeros_like(pic)\n",
    "ppx[:,:,0] = dc[0]\n",
    "ppx[:,:,1] = dc[1]\n",
    "ppx[:,:,2] = dc[2]\n",
    "plt.imshow(ppx)\n",
    "plt.show()"
   ]
  },
  {
   "cell_type": "code",
   "execution_count": 53,
   "id": "8712b4c8",
   "metadata": {},
   "outputs": [],
   "source": [
    "## End #### K-Mean Clusters#####"
   ]
  },
  {
   "cell_type": "code",
   "execution_count": 54,
   "id": "11173e02",
   "metadata": {},
   "outputs": [],
   "source": [
    "#######MY_DATASETS##############"
   ]
  },
  {
   "cell_type": "markdown",
   "id": "f528addb",
   "metadata": {},
   "source": [
    "### My Dataset  (пробуем сами что-то сделать и посчитаь)"
   ]
  },
  {
   "cell_type": "code",
   "execution_count": 55,
   "id": "f539dbe6",
   "metadata": {},
   "outputs": [
    {
     "data": {
      "text/plain": [
       "27000"
      ]
     },
     "execution_count": 55,
     "metadata": {},
     "output_type": "execute_result"
    }
   ],
   "source": [
    "len(files)"
   ]
  },
  {
   "cell_type": "code",
   "execution_count": 56,
   "id": "507124cd",
   "metadata": {},
   "outputs": [
    {
     "data": {
      "text/plain": [
       "27000"
      ]
     },
     "execution_count": 56,
     "metadata": {},
     "output_type": "execute_result"
    }
   ],
   "source": [
    "len(io_img)"
   ]
  },
  {
   "cell_type": "code",
   "execution_count": 323,
   "id": "3fc7cf63",
   "metadata": {},
   "outputs": [
    {
     "name": "stdout",
     "output_type": "stream",
     "text": [
      "0\n",
      "100\n",
      "200\n",
      "300\n",
      "400\n",
      "500\n",
      "600\n",
      "700\n",
      "800\n",
      "900\n",
      "1000\n",
      "1100\n",
      "1200\n",
      "1300\n",
      "1400\n",
      "1500\n",
      "1600\n",
      "1700\n",
      "1800\n",
      "1900\n",
      "2000\n",
      "2100\n",
      "2200\n",
      "2300\n",
      "2400\n",
      "2500\n",
      "2600\n",
      "2700\n",
      "2800\n",
      "2900\n",
      "3000\n",
      "3100\n",
      "3200\n",
      "3300\n",
      "3400\n",
      "3500\n",
      "3600\n",
      "3700\n",
      "3800\n",
      "3900\n",
      "4000\n",
      "4100\n",
      "4200\n",
      "4300\n",
      "4400\n",
      "4500\n",
      "4600\n",
      "4700\n",
      "4800\n",
      "4900\n",
      "5000\n",
      "5100\n",
      "5200\n",
      "5300\n",
      "5400\n",
      "5500\n",
      "5600\n",
      "5700\n",
      "5800\n",
      "5900\n",
      "6000\n",
      "6100\n",
      "6200\n",
      "6300\n",
      "6400\n",
      "6500\n",
      "6600\n",
      "6700\n",
      "6800\n",
      "6900\n",
      "7000\n",
      "7100\n",
      "7200\n",
      "7300\n",
      "7400\n",
      "7500\n",
      "7600\n",
      "7700\n",
      "7800\n",
      "7900\n",
      "8000\n",
      "8100\n",
      "8200\n",
      "8300\n",
      "8400\n",
      "8500\n",
      "8600\n",
      "8700\n",
      "8800\n",
      "8900\n",
      "9000\n",
      "9100\n",
      "9200\n",
      "9300\n",
      "9400\n",
      "9500\n",
      "9600\n",
      "9700\n",
      "9800\n",
      "9900\n",
      "10000\n",
      "10100\n",
      "10200\n",
      "10300\n",
      "10400\n",
      "10500\n",
      "10600\n",
      "10700\n",
      "10800\n",
      "10900\n",
      "11000\n",
      "11100\n",
      "11200\n",
      "11300\n",
      "11400\n",
      "11500\n",
      "11600\n",
      "11700\n",
      "11800\n",
      "11900\n",
      "12000\n",
      "12100\n",
      "12200\n",
      "12300\n",
      "12400\n",
      "12500\n",
      "12600\n",
      "12700\n",
      "12800\n",
      "12900\n",
      "13000\n",
      "13100\n",
      "13200\n",
      "13300\n",
      "13400\n",
      "13500\n",
      "13600\n",
      "13700\n",
      "13800\n",
      "13900\n",
      "14000\n",
      "14100\n",
      "14200\n",
      "14300\n",
      "14400\n",
      "14500\n",
      "14600\n",
      "14700\n",
      "14800\n",
      "14900\n",
      "15000\n",
      "15100\n",
      "15200\n",
      "15300\n",
      "15400\n",
      "15500\n",
      "15600\n",
      "15700\n",
      "15800\n",
      "15900\n",
      "16000\n",
      "16100\n",
      "16200\n",
      "16300\n",
      "16400\n",
      "16500\n",
      "16600\n",
      "16700\n",
      "16800\n",
      "16900\n",
      "17000\n",
      "17100\n",
      "17200\n",
      "17300\n",
      "17400\n",
      "17500\n",
      "17600\n",
      "17700\n",
      "17800\n",
      "17900\n",
      "18000\n",
      "18100\n",
      "18200\n",
      "18300\n",
      "18400\n",
      "18500\n",
      "18600\n",
      "18700\n",
      "18800\n",
      "18900\n",
      "19000\n",
      "19100\n",
      "19200\n",
      "19300\n",
      "19400\n",
      "19500\n",
      "19600\n",
      "19700\n",
      "19800\n",
      "19900\n",
      "20000\n",
      "20100\n",
      "20200\n",
      "20300\n",
      "20400\n",
      "20500\n",
      "20600\n",
      "20700\n",
      "20800\n",
      "20900\n",
      "21000\n",
      "21100\n",
      "21200\n",
      "21300\n",
      "21400\n",
      "21500\n",
      "21600\n",
      "21700\n",
      "21800\n",
      "21900\n",
      "22000\n",
      "22100\n",
      "22200\n",
      "22300\n",
      "22400\n",
      "22500\n",
      "22600\n",
      "22700\n",
      "22800\n",
      "22900\n",
      "23000\n",
      "23100\n",
      "23200\n",
      "23300\n",
      "23400\n",
      "23500\n",
      "23600\n",
      "23700\n",
      "23800\n",
      "23900\n",
      "24000\n",
      "24100\n",
      "24200\n",
      "24300\n",
      "24400\n",
      "24500\n",
      "24600\n",
      "24700\n",
      "24800\n",
      "24900\n",
      "25000\n",
      "25100\n",
      "25200\n",
      "25300\n",
      "25400\n",
      "25500\n",
      "25600\n",
      "25700\n",
      "25800\n",
      "25900\n",
      "26000\n",
      "26100\n",
      "26200\n",
      "26300\n",
      "26400\n",
      "26500\n",
      "26600\n",
      "26700\n",
      "26800\n",
      "26900\n"
     ]
    },
    {
     "data": {
      "text/plain": [
       "27000"
      ]
     },
     "execution_count": 323,
     "metadata": {},
     "output_type": "execute_result"
    }
   ],
   "source": [
    "df_stat = pd.DataFrame(columns = ['id','class','z_max', 'z_min', 'z_mm_dst','r_sum', 'r_max', 'r_min', 'r_mm_dst', 'r_median', 'g_sum', 'g_max', 'g_min', 'g_mm_dst', 'g_median', 'b_sum', 'b_max', 'b_min', 'b_mm_dst', 'b_median', 'lum_max', 'lum_min', 'lum_dst', 'dom_r', 'dom_g', 'dom_b'])\n",
    "\n",
    "i=0\n",
    "for img in io_img:\n",
    "    c_id = i\n",
    "    c_class = yLabels[i]\n",
    "    c_z_max = find_max(img)\n",
    "    c_z_min = find_min(img)\n",
    "    c_z_mm_dst = get_multy_distance(img)\n",
    "    \n",
    "    c_r_sum, c_g_sum, c_b_sum = get_sum_channels(img)\n",
    "    c_r_median, c_g_median, c_b_median = get_median_channels(img)\n",
    "    \n",
    "    c_r_max = find_max_px_by_channel(img, 0)\n",
    "    c_g_max = find_max_px_by_channel(img, 1)\n",
    "    c_b_max = find_max_px_by_channel(img, 2)\n",
    "    \n",
    "    c_r_min = find_min_px_by_channel(img, 0)\n",
    "    c_g_min = find_min_px_by_channel(img, 1)\n",
    "    c_b_min = find_min_px_by_channel(img, 2)\n",
    "    \n",
    "    c_r_mm_dst = get_distance_red(img)\n",
    "    c_g_mm_dst = get_distance_green(img)\n",
    "    c_b_mm_dst = get_distance_blue(img)\n",
    "    \n",
    "    c_lum_max = lum_max(img)\n",
    "    c_lum_min = lum_min(img)\n",
    "    c_lum_dst = lum_distance(img)\n",
    "    \n",
    "    c_dom_r, c_dom_g, c_dom_b = get_dominant_color(img)\n",
    "    \n",
    "    df_stat.loc[i] = [c_id, c_class, c_z_max, c_z_min, c_z_mm_dst, c_r_sum, c_r_max, c_r_min, c_r_mm_dst, c_r_median, c_g_sum, c_g_max, c_g_min, c_g_mm_dst, c_g_median, c_b_sum, c_b_max, c_b_min, c_b_mm_dst, c_b_median, c_lum_max, c_lum_min, c_lum_dst, c_dom_r, c_dom_g, c_dom_b]\n",
    "    \n",
    "    if (i % 100 == 0):\n",
    "        print(i)\n",
    "    i = i + 1\n",
    "\n",
    "len(df_stat)"
   ]
  },
  {
   "cell_type": "code",
   "execution_count": 324,
   "id": "cc66f047",
   "metadata": {},
   "outputs": [],
   "source": [
    "# Сохраним наш датафрейм, т.к. собиралось 1 час\n",
    "pd.DataFrame(df_stat).to_pickle(\"df_stat.pkl\")"
   ]
  },
  {
   "cell_type": "code",
   "execution_count": 325,
   "id": "8400bfe0",
   "metadata": {},
   "outputs": [
    {
     "data": {
      "text/plain": [
       "27000"
      ]
     },
     "execution_count": 325,
     "metadata": {},
     "output_type": "execute_result"
    }
   ],
   "source": [
    "df_stat = pd.read_pickle(\"df_stat.pkl\")\n",
    "len(df_stat)"
   ]
  },
  {
   "cell_type": "code",
   "execution_count": 326,
   "id": "7d9ab05c",
   "metadata": {},
   "outputs": [
    {
     "name": "stdout",
     "output_type": "stream",
     "text": [
      "<class 'pandas.core.frame.DataFrame'>\n",
      "Int64Index: 27000 entries, 0 to 26999\n",
      "Data columns (total 26 columns):\n",
      " #   Column    Non-Null Count  Dtype  \n",
      "---  ------    --------------  -----  \n",
      " 0   id        27000 non-null  float64\n",
      " 1   class     27000 non-null  float64\n",
      " 2   z_max     27000 non-null  float64\n",
      " 3   z_min     27000 non-null  float64\n",
      " 4   z_mm_dst  27000 non-null  float64\n",
      " 5   r_sum     27000 non-null  float64\n",
      " 6   r_max     27000 non-null  float64\n",
      " 7   r_min     27000 non-null  float64\n",
      " 8   r_mm_dst  27000 non-null  float64\n",
      " 9   r_median  27000 non-null  float64\n",
      " 10  g_sum     27000 non-null  float64\n",
      " 11  g_max     27000 non-null  float64\n",
      " 12  g_min     27000 non-null  float64\n",
      " 13  g_mm_dst  27000 non-null  float64\n",
      " 14  g_median  27000 non-null  float64\n",
      " 15  b_sum     27000 non-null  float64\n",
      " 16  b_max     27000 non-null  float64\n",
      " 17  b_min     27000 non-null  float64\n",
      " 18  b_mm_dst  27000 non-null  float64\n",
      " 19  b_median  27000 non-null  float64\n",
      " 20  lum_max   27000 non-null  float64\n",
      " 21  lum_min   27000 non-null  float64\n",
      " 22  lum_dst   27000 non-null  float64\n",
      " 23  dom_r     27000 non-null  float64\n",
      " 24  dom_g     27000 non-null  float64\n",
      " 25  dom_b     27000 non-null  float64\n",
      "dtypes: float64(26)\n",
      "memory usage: 5.6 MB\n"
     ]
    }
   ],
   "source": [
    "# Посмотрим на полученные данные\n",
    "df_stat.info()"
   ]
  },
  {
   "cell_type": "code",
   "execution_count": 327,
   "id": "3d633acc",
   "metadata": {
    "scrolled": true
   },
   "outputs": [
    {
     "data": {
      "text/html": [
       "<div>\n",
       "<style scoped>\n",
       "    .dataframe tbody tr th:only-of-type {\n",
       "        vertical-align: middle;\n",
       "    }\n",
       "\n",
       "    .dataframe tbody tr th {\n",
       "        vertical-align: top;\n",
       "    }\n",
       "\n",
       "    .dataframe thead th {\n",
       "        text-align: right;\n",
       "    }\n",
       "</style>\n",
       "<table border=\"1\" class=\"dataframe\">\n",
       "  <thead>\n",
       "    <tr style=\"text-align: right;\">\n",
       "      <th></th>\n",
       "      <th>id</th>\n",
       "      <th>class</th>\n",
       "      <th>z_max</th>\n",
       "      <th>z_min</th>\n",
       "      <th>z_mm_dst</th>\n",
       "      <th>r_sum</th>\n",
       "      <th>r_max</th>\n",
       "      <th>r_min</th>\n",
       "      <th>r_mm_dst</th>\n",
       "      <th>r_median</th>\n",
       "      <th>...</th>\n",
       "      <th>b_max</th>\n",
       "      <th>b_min</th>\n",
       "      <th>b_mm_dst</th>\n",
       "      <th>b_median</th>\n",
       "      <th>lum_max</th>\n",
       "      <th>lum_min</th>\n",
       "      <th>lum_dst</th>\n",
       "      <th>dom_r</th>\n",
       "      <th>dom_g</th>\n",
       "      <th>dom_b</th>\n",
       "    </tr>\n",
       "  </thead>\n",
       "  <tbody>\n",
       "    <tr>\n",
       "      <th>0</th>\n",
       "      <td>0.0</td>\n",
       "      <td>0.0</td>\n",
       "      <td>515.0</td>\n",
       "      <td>264.0</td>\n",
       "      <td>40.816663</td>\n",
       "      <td>446883.0</td>\n",
       "      <td>211.0</td>\n",
       "      <td>81.0</td>\n",
       "      <td>42.190046</td>\n",
       "      <td>105.0</td>\n",
       "      <td>...</td>\n",
       "      <td>152.0</td>\n",
       "      <td>92.0</td>\n",
       "      <td>43.416587</td>\n",
       "      <td>104.0</td>\n",
       "      <td>167.5590</td>\n",
       "      <td>86.4950</td>\n",
       "      <td>59.135438</td>\n",
       "      <td>116.0</td>\n",
       "      <td>100.0</td>\n",
       "      <td>103.0</td>\n",
       "    </tr>\n",
       "    <tr>\n",
       "      <th>1</th>\n",
       "      <td>1.0</td>\n",
       "      <td>0.0</td>\n",
       "      <td>521.0</td>\n",
       "      <td>166.0</td>\n",
       "      <td>46.173586</td>\n",
       "      <td>410541.0</td>\n",
       "      <td>219.0</td>\n",
       "      <td>35.0</td>\n",
       "      <td>48.270074</td>\n",
       "      <td>56.0</td>\n",
       "      <td>...</td>\n",
       "      <td>144.0</td>\n",
       "      <td>65.0</td>\n",
       "      <td>35.355339</td>\n",
       "      <td>86.0</td>\n",
       "      <td>175.4050</td>\n",
       "      <td>56.6878</td>\n",
       "      <td>45.099889</td>\n",
       "      <td>55.0</td>\n",
       "      <td>98.0</td>\n",
       "      <td>81.0</td>\n",
       "    </tr>\n",
       "    <tr>\n",
       "      <th>2</th>\n",
       "      <td>2.0</td>\n",
       "      <td>0.0</td>\n",
       "      <td>578.0</td>\n",
       "      <td>247.0</td>\n",
       "      <td>62.393910</td>\n",
       "      <td>731426.0</td>\n",
       "      <td>221.0</td>\n",
       "      <td>61.0</td>\n",
       "      <td>63.324561</td>\n",
       "      <td>192.0</td>\n",
       "      <td>...</td>\n",
       "      <td>178.0</td>\n",
       "      <td>94.0</td>\n",
       "      <td>62.201286</td>\n",
       "      <td>148.0</td>\n",
       "      <td>190.4290</td>\n",
       "      <td>84.2534</td>\n",
       "      <td>67.082039</td>\n",
       "      <td>184.0</td>\n",
       "      <td>149.0</td>\n",
       "      <td>143.0</td>\n",
       "    </tr>\n",
       "    <tr>\n",
       "      <th>3</th>\n",
       "      <td>3.0</td>\n",
       "      <td>0.0</td>\n",
       "      <td>641.0</td>\n",
       "      <td>217.0</td>\n",
       "      <td>39.849718</td>\n",
       "      <td>628144.0</td>\n",
       "      <td>247.0</td>\n",
       "      <td>50.0</td>\n",
       "      <td>39.849718</td>\n",
       "      <td>184.0</td>\n",
       "      <td>...</td>\n",
       "      <td>188.0</td>\n",
       "      <td>86.0</td>\n",
       "      <td>39.849718</td>\n",
       "      <td>145.0</td>\n",
       "      <td>213.4170</td>\n",
       "      <td>74.7704</td>\n",
       "      <td>39.849718</td>\n",
       "      <td>192.0</td>\n",
       "      <td>160.0</td>\n",
       "      <td>147.0</td>\n",
       "    </tr>\n",
       "    <tr>\n",
       "      <th>4</th>\n",
       "      <td>4.0</td>\n",
       "      <td>0.0</td>\n",
       "      <td>496.0</td>\n",
       "      <td>217.0</td>\n",
       "      <td>28.460499</td>\n",
       "      <td>480218.0</td>\n",
       "      <td>187.0</td>\n",
       "      <td>49.0</td>\n",
       "      <td>15.524175</td>\n",
       "      <td>132.0</td>\n",
       "      <td>...</td>\n",
       "      <td>154.0</td>\n",
       "      <td>88.0</td>\n",
       "      <td>19.416488</td>\n",
       "      <td>127.0</td>\n",
       "      <td>164.1586</td>\n",
       "      <td>71.5554</td>\n",
       "      <td>18.973666</td>\n",
       "      <td>68.0</td>\n",
       "      <td>86.0</td>\n",
       "      <td>96.0</td>\n",
       "    </tr>\n",
       "  </tbody>\n",
       "</table>\n",
       "<p>5 rows × 26 columns</p>\n",
       "</div>"
      ],
      "text/plain": [
       "    id  class  z_max  z_min   z_mm_dst     r_sum  r_max  r_min   r_mm_dst  \\\n",
       "0  0.0    0.0  515.0  264.0  40.816663  446883.0  211.0   81.0  42.190046   \n",
       "1  1.0    0.0  521.0  166.0  46.173586  410541.0  219.0   35.0  48.270074   \n",
       "2  2.0    0.0  578.0  247.0  62.393910  731426.0  221.0   61.0  63.324561   \n",
       "3  3.0    0.0  641.0  217.0  39.849718  628144.0  247.0   50.0  39.849718   \n",
       "4  4.0    0.0  496.0  217.0  28.460499  480218.0  187.0   49.0  15.524175   \n",
       "\n",
       "   r_median  ...  b_max  b_min   b_mm_dst  b_median   lum_max  lum_min  \\\n",
       "0     105.0  ...  152.0   92.0  43.416587     104.0  167.5590  86.4950   \n",
       "1      56.0  ...  144.0   65.0  35.355339      86.0  175.4050  56.6878   \n",
       "2     192.0  ...  178.0   94.0  62.201286     148.0  190.4290  84.2534   \n",
       "3     184.0  ...  188.0   86.0  39.849718     145.0  213.4170  74.7704   \n",
       "4     132.0  ...  154.0   88.0  19.416488     127.0  164.1586  71.5554   \n",
       "\n",
       "     lum_dst  dom_r  dom_g  dom_b  \n",
       "0  59.135438  116.0  100.0  103.0  \n",
       "1  45.099889   55.0   98.0   81.0  \n",
       "2  67.082039  184.0  149.0  143.0  \n",
       "3  39.849718  192.0  160.0  147.0  \n",
       "4  18.973666   68.0   86.0   96.0  \n",
       "\n",
       "[5 rows x 26 columns]"
      ]
     },
     "execution_count": 327,
     "metadata": {},
     "output_type": "execute_result"
    }
   ],
   "source": [
    "df_stat.head()"
   ]
  },
  {
   "cell_type": "code",
   "execution_count": 329,
   "id": "77121d3d",
   "metadata": {
    "scrolled": true
   },
   "outputs": [
    {
     "data": {
      "text/html": [
       "<div>\n",
       "<style scoped>\n",
       "    .dataframe tbody tr th:only-of-type {\n",
       "        vertical-align: middle;\n",
       "    }\n",
       "\n",
       "    .dataframe tbody tr th {\n",
       "        vertical-align: top;\n",
       "    }\n",
       "\n",
       "    .dataframe thead th {\n",
       "        text-align: right;\n",
       "    }\n",
       "</style>\n",
       "<table border=\"1\" class=\"dataframe\">\n",
       "  <thead>\n",
       "    <tr style=\"text-align: right;\">\n",
       "      <th></th>\n",
       "      <th>id</th>\n",
       "      <th>class</th>\n",
       "      <th>z_max</th>\n",
       "      <th>z_min</th>\n",
       "      <th>z_mm_dst</th>\n",
       "      <th>r_sum</th>\n",
       "      <th>r_max</th>\n",
       "      <th>r_min</th>\n",
       "      <th>r_mm_dst</th>\n",
       "      <th>r_median</th>\n",
       "      <th>...</th>\n",
       "      <th>b_max</th>\n",
       "      <th>b_min</th>\n",
       "      <th>b_mm_dst</th>\n",
       "      <th>b_median</th>\n",
       "      <th>lum_max</th>\n",
       "      <th>lum_min</th>\n",
       "      <th>lum_dst</th>\n",
       "      <th>dom_r</th>\n",
       "      <th>dom_g</th>\n",
       "      <th>dom_b</th>\n",
       "    </tr>\n",
       "  </thead>\n",
       "  <tbody>\n",
       "    <tr>\n",
       "      <th>0</th>\n",
       "      <td>0</td>\n",
       "      <td>0</td>\n",
       "      <td>515</td>\n",
       "      <td>264</td>\n",
       "      <td>40.816663</td>\n",
       "      <td>446883</td>\n",
       "      <td>211</td>\n",
       "      <td>81</td>\n",
       "      <td>42.190046</td>\n",
       "      <td>105.0</td>\n",
       "      <td>...</td>\n",
       "      <td>152</td>\n",
       "      <td>92</td>\n",
       "      <td>43.416587</td>\n",
       "      <td>104.0</td>\n",
       "      <td>167.559</td>\n",
       "      <td>86.495</td>\n",
       "      <td>59.135438</td>\n",
       "      <td>116</td>\n",
       "      <td>100</td>\n",
       "      <td>103</td>\n",
       "    </tr>\n",
       "    <tr>\n",
       "      <th>1</th>\n",
       "      <td>1</td>\n",
       "      <td>0</td>\n",
       "      <td>521</td>\n",
       "      <td>166</td>\n",
       "      <td>46.173586</td>\n",
       "      <td>410541</td>\n",
       "      <td>219</td>\n",
       "      <td>35</td>\n",
       "      <td>48.270074</td>\n",
       "      <td>56.0</td>\n",
       "      <td>...</td>\n",
       "      <td>144</td>\n",
       "      <td>65</td>\n",
       "      <td>35.355339</td>\n",
       "      <td>86.0</td>\n",
       "      <td>175.405</td>\n",
       "      <td>56.6878</td>\n",
       "      <td>45.099889</td>\n",
       "      <td>55</td>\n",
       "      <td>98</td>\n",
       "      <td>81</td>\n",
       "    </tr>\n",
       "    <tr>\n",
       "      <th>2</th>\n",
       "      <td>2</td>\n",
       "      <td>0</td>\n",
       "      <td>578</td>\n",
       "      <td>247</td>\n",
       "      <td>62.39391</td>\n",
       "      <td>731426</td>\n",
       "      <td>221</td>\n",
       "      <td>61</td>\n",
       "      <td>63.324561</td>\n",
       "      <td>192.0</td>\n",
       "      <td>...</td>\n",
       "      <td>178</td>\n",
       "      <td>94</td>\n",
       "      <td>62.201286</td>\n",
       "      <td>148.0</td>\n",
       "      <td>190.429</td>\n",
       "      <td>84.2534</td>\n",
       "      <td>67.082039</td>\n",
       "      <td>184</td>\n",
       "      <td>149</td>\n",
       "      <td>143</td>\n",
       "    </tr>\n",
       "    <tr>\n",
       "      <th>3</th>\n",
       "      <td>3</td>\n",
       "      <td>0</td>\n",
       "      <td>641</td>\n",
       "      <td>217</td>\n",
       "      <td>39.849718</td>\n",
       "      <td>628144</td>\n",
       "      <td>247</td>\n",
       "      <td>50</td>\n",
       "      <td>39.849718</td>\n",
       "      <td>184.0</td>\n",
       "      <td>...</td>\n",
       "      <td>188</td>\n",
       "      <td>86</td>\n",
       "      <td>39.849718</td>\n",
       "      <td>145.0</td>\n",
       "      <td>213.417</td>\n",
       "      <td>74.7704</td>\n",
       "      <td>39.849718</td>\n",
       "      <td>192</td>\n",
       "      <td>160</td>\n",
       "      <td>147</td>\n",
       "    </tr>\n",
       "    <tr>\n",
       "      <th>4</th>\n",
       "      <td>4</td>\n",
       "      <td>0</td>\n",
       "      <td>496</td>\n",
       "      <td>217</td>\n",
       "      <td>28.460499</td>\n",
       "      <td>480218</td>\n",
       "      <td>187</td>\n",
       "      <td>49</td>\n",
       "      <td>15.524175</td>\n",
       "      <td>132.0</td>\n",
       "      <td>...</td>\n",
       "      <td>154</td>\n",
       "      <td>88</td>\n",
       "      <td>19.416488</td>\n",
       "      <td>127.0</td>\n",
       "      <td>164.1586</td>\n",
       "      <td>71.5554</td>\n",
       "      <td>18.973666</td>\n",
       "      <td>68</td>\n",
       "      <td>86</td>\n",
       "      <td>96</td>\n",
       "    </tr>\n",
       "  </tbody>\n",
       "</table>\n",
       "<p>5 rows × 26 columns</p>\n",
       "</div>"
      ],
      "text/plain": [
       "   id  class  z_max  z_min   z_mm_dst   r_sum  r_max  r_min   r_mm_dst  \\\n",
       "0   0      0    515    264  40.816663  446883    211     81  42.190046   \n",
       "1   1      0    521    166  46.173586  410541    219     35  48.270074   \n",
       "2   2      0    578    247   62.39391  731426    221     61  63.324561   \n",
       "3   3      0    641    217  39.849718  628144    247     50  39.849718   \n",
       "4   4      0    496    217  28.460499  480218    187     49  15.524175   \n",
       "\n",
       "   r_median  ...  b_max  b_min   b_mm_dst  b_median   lum_max  lum_min  \\\n",
       "0     105.0  ...    152     92  43.416587     104.0   167.559   86.495   \n",
       "1      56.0  ...    144     65  35.355339      86.0   175.405  56.6878   \n",
       "2     192.0  ...    178     94  62.201286     148.0   190.429  84.2534   \n",
       "3     184.0  ...    188     86  39.849718     145.0   213.417  74.7704   \n",
       "4     132.0  ...    154     88  19.416488     127.0  164.1586  71.5554   \n",
       "\n",
       "     lum_dst  dom_r  dom_g  dom_b  \n",
       "0  59.135438    116    100    103  \n",
       "1  45.099889     55     98     81  \n",
       "2  67.082039    184    149    143  \n",
       "3  39.849718    192    160    147  \n",
       "4  18.973666     68     86     96  \n",
       "\n",
       "[5 rows x 26 columns]"
      ]
     },
     "execution_count": 329,
     "metadata": {},
     "output_type": "execute_result"
    }
   ],
   "source": [
    "# Не очень хорошо получилось, сконвертим в целые числа\n",
    "df_stat = df_stat.convert_dtypes()\n",
    "df_stat.head()"
   ]
  },
  {
   "cell_type": "code",
   "execution_count": 330,
   "id": "0a0e0922",
   "metadata": {},
   "outputs": [
    {
     "data": {
      "text/html": [
       "<div>\n",
       "<style scoped>\n",
       "    .dataframe tbody tr th:only-of-type {\n",
       "        vertical-align: middle;\n",
       "    }\n",
       "\n",
       "    .dataframe tbody tr th {\n",
       "        vertical-align: top;\n",
       "    }\n",
       "\n",
       "    .dataframe thead th {\n",
       "        text-align: right;\n",
       "    }\n",
       "</style>\n",
       "<table border=\"1\" class=\"dataframe\">\n",
       "  <thead>\n",
       "    <tr style=\"text-align: right;\">\n",
       "      <th></th>\n",
       "      <th>id</th>\n",
       "      <th>class</th>\n",
       "      <th>z_max</th>\n",
       "      <th>z_min</th>\n",
       "      <th>z_mm_dst</th>\n",
       "      <th>r_sum</th>\n",
       "      <th>r_max</th>\n",
       "      <th>r_min</th>\n",
       "      <th>r_mm_dst</th>\n",
       "      <th>r_median</th>\n",
       "      <th>...</th>\n",
       "      <th>b_max</th>\n",
       "      <th>b_min</th>\n",
       "      <th>b_mm_dst</th>\n",
       "      <th>b_median</th>\n",
       "      <th>lum_max</th>\n",
       "      <th>lum_min</th>\n",
       "      <th>lum_dst</th>\n",
       "      <th>dom_r</th>\n",
       "      <th>dom_g</th>\n",
       "      <th>dom_b</th>\n",
       "    </tr>\n",
       "  </thead>\n",
       "  <tbody>\n",
       "    <tr>\n",
       "      <th>id</th>\n",
       "      <td>1.000000</td>\n",
       "      <td>0.994057</td>\n",
       "      <td>0.010814</td>\n",
       "      <td>-0.070130</td>\n",
       "      <td>0.005768</td>\n",
       "      <td>-0.207105</td>\n",
       "      <td>-0.070223</td>\n",
       "      <td>-0.126627</td>\n",
       "      <td>-0.013062</td>\n",
       "      <td>-0.213522</td>\n",
       "      <td>...</td>\n",
       "      <td>0.096677</td>\n",
       "      <td>0.022901</td>\n",
       "      <td>-0.008800</td>\n",
       "      <td>-0.055327</td>\n",
       "      <td>0.009125</td>\n",
       "      <td>-0.093646</td>\n",
       "      <td>0.018842</td>\n",
       "      <td>-0.178533</td>\n",
       "      <td>-0.125607</td>\n",
       "      <td>-0.041969</td>\n",
       "    </tr>\n",
       "    <tr>\n",
       "      <th>class</th>\n",
       "      <td>0.994057</td>\n",
       "      <td>1.000000</td>\n",
       "      <td>0.010175</td>\n",
       "      <td>-0.063797</td>\n",
       "      <td>0.005881</td>\n",
       "      <td>-0.203034</td>\n",
       "      <td>-0.068277</td>\n",
       "      <td>-0.121483</td>\n",
       "      <td>-0.013656</td>\n",
       "      <td>-0.208538</td>\n",
       "      <td>...</td>\n",
       "      <td>0.093525</td>\n",
       "      <td>0.026802</td>\n",
       "      <td>-0.009529</td>\n",
       "      <td>-0.053574</td>\n",
       "      <td>0.008617</td>\n",
       "      <td>-0.086348</td>\n",
       "      <td>0.018667</td>\n",
       "      <td>-0.176647</td>\n",
       "      <td>-0.124678</td>\n",
       "      <td>-0.043771</td>\n",
       "    </tr>\n",
       "    <tr>\n",
       "      <th>z_max</th>\n",
       "      <td>0.010814</td>\n",
       "      <td>0.010175</td>\n",
       "      <td>1.000000</td>\n",
       "      <td>0.322553</td>\n",
       "      <td>-0.017135</td>\n",
       "      <td>0.698279</td>\n",
       "      <td>0.975150</td>\n",
       "      <td>0.345116</td>\n",
       "      <td>0.017757</td>\n",
       "      <td>0.636506</td>\n",
       "      <td>...</td>\n",
       "      <td>0.977668</td>\n",
       "      <td>0.189338</td>\n",
       "      <td>-0.011449</td>\n",
       "      <td>0.640453</td>\n",
       "      <td>0.999054</td>\n",
       "      <td>0.325677</td>\n",
       "      <td>-0.027571</td>\n",
       "      <td>0.594685</td>\n",
       "      <td>0.591182</td>\n",
       "      <td>0.579372</td>\n",
       "    </tr>\n",
       "    <tr>\n",
       "      <th>z_min</th>\n",
       "      <td>-0.070130</td>\n",
       "      <td>-0.063797</td>\n",
       "      <td>0.322553</td>\n",
       "      <td>1.000000</td>\n",
       "      <td>0.027775</td>\n",
       "      <td>0.704492</td>\n",
       "      <td>0.351073</td>\n",
       "      <td>0.949906</td>\n",
       "      <td>0.054887</td>\n",
       "      <td>0.703990</td>\n",
       "      <td>...</td>\n",
       "      <td>0.277805</td>\n",
       "      <td>0.893556</td>\n",
       "      <td>0.042974</td>\n",
       "      <td>0.772729</td>\n",
       "      <td>0.323730</td>\n",
       "      <td>0.988886</td>\n",
       "      <td>0.026719</td>\n",
       "      <td>0.576078</td>\n",
       "      <td>0.584396</td>\n",
       "      <td>0.571123</td>\n",
       "    </tr>\n",
       "    <tr>\n",
       "      <th>z_mm_dst</th>\n",
       "      <td>0.005768</td>\n",
       "      <td>0.005881</td>\n",
       "      <td>-0.017135</td>\n",
       "      <td>0.027775</td>\n",
       "      <td>1.000000</td>\n",
       "      <td>0.010577</td>\n",
       "      <td>-0.009183</td>\n",
       "      <td>0.016870</td>\n",
       "      <td>0.506583</td>\n",
       "      <td>0.010372</td>\n",
       "      <td>...</td>\n",
       "      <td>-0.024583</td>\n",
       "      <td>0.038505</td>\n",
       "      <td>0.481010</td>\n",
       "      <td>0.008479</td>\n",
       "      <td>-0.016764</td>\n",
       "      <td>0.032440</td>\n",
       "      <td>0.753399</td>\n",
       "      <td>0.012524</td>\n",
       "      <td>0.011915</td>\n",
       "      <td>0.006049</td>\n",
       "    </tr>\n",
       "    <tr>\n",
       "      <th>r_sum</th>\n",
       "      <td>-0.207105</td>\n",
       "      <td>-0.203034</td>\n",
       "      <td>0.698279</td>\n",
       "      <td>0.704492</td>\n",
       "      <td>0.010577</td>\n",
       "      <td>1.000000</td>\n",
       "      <td>0.744266</td>\n",
       "      <td>0.757232</td>\n",
       "      <td>0.063176</td>\n",
       "      <td>0.984802</td>\n",
       "      <td>...</td>\n",
       "      <td>0.616383</td>\n",
       "      <td>0.480433</td>\n",
       "      <td>0.030063</td>\n",
       "      <td>0.885325</td>\n",
       "      <td>0.701501</td>\n",
       "      <td>0.715535</td>\n",
       "      <td>0.004754</td>\n",
       "      <td>0.849307</td>\n",
       "      <td>0.789437</td>\n",
       "      <td>0.718158</td>\n",
       "    </tr>\n",
       "    <tr>\n",
       "      <th>r_max</th>\n",
       "      <td>-0.070223</td>\n",
       "      <td>-0.068277</td>\n",
       "      <td>0.975150</td>\n",
       "      <td>0.351073</td>\n",
       "      <td>-0.009183</td>\n",
       "      <td>0.744266</td>\n",
       "      <td>1.000000</td>\n",
       "      <td>0.389714</td>\n",
       "      <td>0.027655</td>\n",
       "      <td>0.683631</td>\n",
       "      <td>...</td>\n",
       "      <td>0.912456</td>\n",
       "      <td>0.185250</td>\n",
       "      <td>-0.007234</td>\n",
       "      <td>0.632064</td>\n",
       "      <td>0.973578</td>\n",
       "      <td>0.360950</td>\n",
       "      <td>-0.020221</td>\n",
       "      <td>0.624666</td>\n",
       "      <td>0.599650</td>\n",
       "      <td>0.558611</td>\n",
       "    </tr>\n",
       "    <tr>\n",
       "      <th>r_min</th>\n",
       "      <td>-0.126627</td>\n",
       "      <td>-0.121483</td>\n",
       "      <td>0.345116</td>\n",
       "      <td>0.949906</td>\n",
       "      <td>0.016870</td>\n",
       "      <td>0.757232</td>\n",
       "      <td>0.389714</td>\n",
       "      <td>1.000000</td>\n",
       "      <td>0.052076</td>\n",
       "      <td>0.754469</td>\n",
       "      <td>...</td>\n",
       "      <td>0.279137</td>\n",
       "      <td>0.749368</td>\n",
       "      <td>0.036687</td>\n",
       "      <td>0.724252</td>\n",
       "      <td>0.348558</td>\n",
       "      <td>0.942893</td>\n",
       "      <td>0.016526</td>\n",
       "      <td>0.618646</td>\n",
       "      <td>0.587144</td>\n",
       "      <td>0.534554</td>\n",
       "    </tr>\n",
       "    <tr>\n",
       "      <th>r_mm_dst</th>\n",
       "      <td>-0.013062</td>\n",
       "      <td>-0.013656</td>\n",
       "      <td>0.017757</td>\n",
       "      <td>0.054887</td>\n",
       "      <td>0.506583</td>\n",
       "      <td>0.063176</td>\n",
       "      <td>0.027655</td>\n",
       "      <td>0.052076</td>\n",
       "      <td>1.000000</td>\n",
       "      <td>0.062914</td>\n",
       "      <td>...</td>\n",
       "      <td>0.007287</td>\n",
       "      <td>0.045092</td>\n",
       "      <td>0.336461</td>\n",
       "      <td>0.051944</td>\n",
       "      <td>0.018479</td>\n",
       "      <td>0.060715</td>\n",
       "      <td>0.439020</td>\n",
       "      <td>0.052024</td>\n",
       "      <td>0.049178</td>\n",
       "      <td>0.036850</td>\n",
       "    </tr>\n",
       "    <tr>\n",
       "      <th>r_median</th>\n",
       "      <td>-0.213522</td>\n",
       "      <td>-0.208538</td>\n",
       "      <td>0.636506</td>\n",
       "      <td>0.703990</td>\n",
       "      <td>0.010372</td>\n",
       "      <td>0.984802</td>\n",
       "      <td>0.683631</td>\n",
       "      <td>0.754469</td>\n",
       "      <td>0.062914</td>\n",
       "      <td>1.000000</td>\n",
       "      <td>...</td>\n",
       "      <td>0.555421</td>\n",
       "      <td>0.482684</td>\n",
       "      <td>0.031182</td>\n",
       "      <td>0.885885</td>\n",
       "      <td>0.640008</td>\n",
       "      <td>0.716183</td>\n",
       "      <td>0.005869</td>\n",
       "      <td>0.841654</td>\n",
       "      <td>0.773072</td>\n",
       "      <td>0.697977</td>\n",
       "    </tr>\n",
       "    <tr>\n",
       "      <th>g_sum</th>\n",
       "      <td>-0.144217</td>\n",
       "      <td>-0.141238</td>\n",
       "      <td>0.712446</td>\n",
       "      <td>0.739786</td>\n",
       "      <td>0.013124</td>\n",
       "      <td>0.958226</td>\n",
       "      <td>0.732195</td>\n",
       "      <td>0.744850</td>\n",
       "      <td>0.064187</td>\n",
       "      <td>0.935365</td>\n",
       "      <td>...</td>\n",
       "      <td>0.651155</td>\n",
       "      <td>0.553695</td>\n",
       "      <td>0.037502</td>\n",
       "      <td>0.927326</td>\n",
       "      <td>0.717962</td>\n",
       "      <td>0.756612</td>\n",
       "      <td>0.008988</td>\n",
       "      <td>0.817634</td>\n",
       "      <td>0.828987</td>\n",
       "      <td>0.762992</td>\n",
       "    </tr>\n",
       "    <tr>\n",
       "      <th>g_max</th>\n",
       "      <td>0.028849</td>\n",
       "      <td>0.027815</td>\n",
       "      <td>0.995807</td>\n",
       "      <td>0.314332</td>\n",
       "      <td>-0.018421</td>\n",
       "      <td>0.685847</td>\n",
       "      <td>0.958916</td>\n",
       "      <td>0.335956</td>\n",
       "      <td>0.016567</td>\n",
       "      <td>0.624652</td>\n",
       "      <td>...</td>\n",
       "      <td>0.980350</td>\n",
       "      <td>0.178287</td>\n",
       "      <td>-0.012852</td>\n",
       "      <td>0.633540</td>\n",
       "      <td>0.998048</td>\n",
       "      <td>0.320216</td>\n",
       "      <td>-0.027682</td>\n",
       "      <td>0.586613</td>\n",
       "      <td>0.591425</td>\n",
       "      <td>0.576697</td>\n",
       "    </tr>\n",
       "    <tr>\n",
       "      <th>g_min</th>\n",
       "      <td>-0.092176</td>\n",
       "      <td>-0.084474</td>\n",
       "      <td>0.304161</td>\n",
       "      <td>0.971433</td>\n",
       "      <td>0.039382</td>\n",
       "      <td>0.685366</td>\n",
       "      <td>0.338282</td>\n",
       "      <td>0.906652</td>\n",
       "      <td>0.064010</td>\n",
       "      <td>0.687517</td>\n",
       "      <td>...</td>\n",
       "      <td>0.248653</td>\n",
       "      <td>0.838025</td>\n",
       "      <td>0.053581</td>\n",
       "      <td>0.729475</td>\n",
       "      <td>0.309087</td>\n",
       "      <td>0.992862</td>\n",
       "      <td>0.038821</td>\n",
       "      <td>0.559702</td>\n",
       "      <td>0.586599</td>\n",
       "      <td>0.536013</td>\n",
       "    </tr>\n",
       "    <tr>\n",
       "      <th>g_mm_dst</th>\n",
       "      <td>-0.003286</td>\n",
       "      <td>-0.002958</td>\n",
       "      <td>-0.035382</td>\n",
       "      <td>0.034408</td>\n",
       "      <td>0.592551</td>\n",
       "      <td>0.010736</td>\n",
       "      <td>-0.026812</td>\n",
       "      <td>0.027562</td>\n",
       "      <td>0.386938</td>\n",
       "      <td>0.012940</td>\n",
       "      <td>...</td>\n",
       "      <td>-0.045023</td>\n",
       "      <td>0.043289</td>\n",
       "      <td>0.411859</td>\n",
       "      <td>0.011004</td>\n",
       "      <td>-0.033960</td>\n",
       "      <td>0.037869</td>\n",
       "      <td>0.737988</td>\n",
       "      <td>0.009786</td>\n",
       "      <td>0.012684</td>\n",
       "      <td>0.002868</td>\n",
       "    </tr>\n",
       "    <tr>\n",
       "      <th>g_median</th>\n",
       "      <td>-0.152085</td>\n",
       "      <td>-0.147566</td>\n",
       "      <td>0.649802</td>\n",
       "      <td>0.754923</td>\n",
       "      <td>0.013665</td>\n",
       "      <td>0.947515</td>\n",
       "      <td>0.677601</td>\n",
       "      <td>0.759147</td>\n",
       "      <td>0.065046</td>\n",
       "      <td>0.950075</td>\n",
       "      <td>...</td>\n",
       "      <td>0.583709</td>\n",
       "      <td>0.567895</td>\n",
       "      <td>0.038739</td>\n",
       "      <td>0.930293</td>\n",
       "      <td>0.655556</td>\n",
       "      <td>0.773040</td>\n",
       "      <td>0.011227</td>\n",
       "      <td>0.807888</td>\n",
       "      <td>0.813832</td>\n",
       "      <td>0.737099</td>\n",
       "    </tr>\n",
       "    <tr>\n",
       "      <th>b_sum</th>\n",
       "      <td>-0.046359</td>\n",
       "      <td>-0.046410</td>\n",
       "      <td>0.704325</td>\n",
       "      <td>0.744089</td>\n",
       "      <td>0.007123</td>\n",
       "      <td>0.887188</td>\n",
       "      <td>0.687543</td>\n",
       "      <td>0.698348</td>\n",
       "      <td>0.050091</td>\n",
       "      <td>0.861067</td>\n",
       "      <td>...</td>\n",
       "      <td>0.690259</td>\n",
       "      <td>0.679396</td>\n",
       "      <td>0.030388</td>\n",
       "      <td>0.983641</td>\n",
       "      <td>0.702118</td>\n",
       "      <td>0.721546</td>\n",
       "      <td>0.002503</td>\n",
       "      <td>0.765996</td>\n",
       "      <td>0.785324</td>\n",
       "      <td>0.820388</td>\n",
       "    </tr>\n",
       "    <tr>\n",
       "      <th>b_max</th>\n",
       "      <td>0.096677</td>\n",
       "      <td>0.093525</td>\n",
       "      <td>0.977668</td>\n",
       "      <td>0.277805</td>\n",
       "      <td>-0.024583</td>\n",
       "      <td>0.616383</td>\n",
       "      <td>0.912456</td>\n",
       "      <td>0.279137</td>\n",
       "      <td>0.007287</td>\n",
       "      <td>0.555421</td>\n",
       "      <td>...</td>\n",
       "      <td>1.000000</td>\n",
       "      <td>0.194458</td>\n",
       "      <td>-0.017070</td>\n",
       "      <td>0.621214</td>\n",
       "      <td>0.974505</td>\n",
       "      <td>0.269702</td>\n",
       "      <td>-0.035089</td>\n",
       "      <td>0.532593</td>\n",
       "      <td>0.547196</td>\n",
       "      <td>0.573503</td>\n",
       "    </tr>\n",
       "    <tr>\n",
       "      <th>b_min</th>\n",
       "      <td>0.022901</td>\n",
       "      <td>0.026802</td>\n",
       "      <td>0.189338</td>\n",
       "      <td>0.893556</td>\n",
       "      <td>0.038505</td>\n",
       "      <td>0.480433</td>\n",
       "      <td>0.185250</td>\n",
       "      <td>0.749368</td>\n",
       "      <td>0.045092</td>\n",
       "      <td>0.482684</td>\n",
       "      <td>...</td>\n",
       "      <td>0.194458</td>\n",
       "      <td>1.000000</td>\n",
       "      <td>0.052094</td>\n",
       "      <td>0.707971</td>\n",
       "      <td>0.183034</td>\n",
       "      <td>0.844378</td>\n",
       "      <td>0.037499</td>\n",
       "      <td>0.394880</td>\n",
       "      <td>0.439663</td>\n",
       "      <td>0.524158</td>\n",
       "    </tr>\n",
       "    <tr>\n",
       "      <th>b_mm_dst</th>\n",
       "      <td>-0.008800</td>\n",
       "      <td>-0.009529</td>\n",
       "      <td>-0.011449</td>\n",
       "      <td>0.042974</td>\n",
       "      <td>0.481010</td>\n",
       "      <td>0.030063</td>\n",
       "      <td>-0.007234</td>\n",
       "      <td>0.036687</td>\n",
       "      <td>0.336461</td>\n",
       "      <td>0.031182</td>\n",
       "      <td>...</td>\n",
       "      <td>-0.017070</td>\n",
       "      <td>0.052094</td>\n",
       "      <td>1.000000</td>\n",
       "      <td>0.031790</td>\n",
       "      <td>-0.011435</td>\n",
       "      <td>0.047491</td>\n",
       "      <td>0.413959</td>\n",
       "      <td>0.026769</td>\n",
       "      <td>0.029829</td>\n",
       "      <td>0.020951</td>\n",
       "    </tr>\n",
       "    <tr>\n",
       "      <th>b_median</th>\n",
       "      <td>-0.055327</td>\n",
       "      <td>-0.053574</td>\n",
       "      <td>0.640453</td>\n",
       "      <td>0.772729</td>\n",
       "      <td>0.008479</td>\n",
       "      <td>0.885325</td>\n",
       "      <td>0.632064</td>\n",
       "      <td>0.724252</td>\n",
       "      <td>0.051944</td>\n",
       "      <td>0.885885</td>\n",
       "      <td>...</td>\n",
       "      <td>0.621214</td>\n",
       "      <td>0.707971</td>\n",
       "      <td>0.031790</td>\n",
       "      <td>1.000000</td>\n",
       "      <td>0.638426</td>\n",
       "      <td>0.750714</td>\n",
       "      <td>0.005502</td>\n",
       "      <td>0.763836</td>\n",
       "      <td>0.775030</td>\n",
       "      <td>0.802716</td>\n",
       "    </tr>\n",
       "    <tr>\n",
       "      <th>lum_max</th>\n",
       "      <td>0.009125</td>\n",
       "      <td>0.008617</td>\n",
       "      <td>0.999054</td>\n",
       "      <td>0.323730</td>\n",
       "      <td>-0.016764</td>\n",
       "      <td>0.701501</td>\n",
       "      <td>0.973578</td>\n",
       "      <td>0.348558</td>\n",
       "      <td>0.018479</td>\n",
       "      <td>0.640008</td>\n",
       "      <td>...</td>\n",
       "      <td>0.974505</td>\n",
       "      <td>0.183034</td>\n",
       "      <td>-0.011435</td>\n",
       "      <td>0.638426</td>\n",
       "      <td>1.000000</td>\n",
       "      <td>0.329587</td>\n",
       "      <td>-0.026571</td>\n",
       "      <td>0.597669</td>\n",
       "      <td>0.595750</td>\n",
       "      <td>0.577791</td>\n",
       "    </tr>\n",
       "    <tr>\n",
       "      <th>lum_min</th>\n",
       "      <td>-0.093646</td>\n",
       "      <td>-0.086348</td>\n",
       "      <td>0.325677</td>\n",
       "      <td>0.988886</td>\n",
       "      <td>0.032440</td>\n",
       "      <td>0.715535</td>\n",
       "      <td>0.360950</td>\n",
       "      <td>0.942893</td>\n",
       "      <td>0.060715</td>\n",
       "      <td>0.716183</td>\n",
       "      <td>...</td>\n",
       "      <td>0.269702</td>\n",
       "      <td>0.844378</td>\n",
       "      <td>0.047491</td>\n",
       "      <td>0.750714</td>\n",
       "      <td>0.329587</td>\n",
       "      <td>1.000000</td>\n",
       "      <td>0.030923</td>\n",
       "      <td>0.584570</td>\n",
       "      <td>0.597301</td>\n",
       "      <td>0.553136</td>\n",
       "    </tr>\n",
       "    <tr>\n",
       "      <th>lum_dst</th>\n",
       "      <td>0.018842</td>\n",
       "      <td>0.018667</td>\n",
       "      <td>-0.027571</td>\n",
       "      <td>0.026719</td>\n",
       "      <td>0.753399</td>\n",
       "      <td>0.004754</td>\n",
       "      <td>-0.020221</td>\n",
       "      <td>0.016526</td>\n",
       "      <td>0.439020</td>\n",
       "      <td>0.005869</td>\n",
       "      <td>...</td>\n",
       "      <td>-0.035089</td>\n",
       "      <td>0.037499</td>\n",
       "      <td>0.413959</td>\n",
       "      <td>0.005502</td>\n",
       "      <td>-0.026571</td>\n",
       "      <td>0.030923</td>\n",
       "      <td>1.000000</td>\n",
       "      <td>0.004556</td>\n",
       "      <td>0.007230</td>\n",
       "      <td>0.000099</td>\n",
       "    </tr>\n",
       "    <tr>\n",
       "      <th>dom_r</th>\n",
       "      <td>-0.178533</td>\n",
       "      <td>-0.176647</td>\n",
       "      <td>0.594685</td>\n",
       "      <td>0.576078</td>\n",
       "      <td>0.012524</td>\n",
       "      <td>0.849307</td>\n",
       "      <td>0.624666</td>\n",
       "      <td>0.618646</td>\n",
       "      <td>0.052024</td>\n",
       "      <td>0.841654</td>\n",
       "      <td>...</td>\n",
       "      <td>0.532593</td>\n",
       "      <td>0.394880</td>\n",
       "      <td>0.026769</td>\n",
       "      <td>0.763836</td>\n",
       "      <td>0.597669</td>\n",
       "      <td>0.584570</td>\n",
       "      <td>0.004556</td>\n",
       "      <td>1.000000</td>\n",
       "      <td>0.945842</td>\n",
       "      <td>0.889320</td>\n",
       "    </tr>\n",
       "    <tr>\n",
       "      <th>dom_g</th>\n",
       "      <td>-0.125607</td>\n",
       "      <td>-0.124678</td>\n",
       "      <td>0.591182</td>\n",
       "      <td>0.584396</td>\n",
       "      <td>0.011915</td>\n",
       "      <td>0.789437</td>\n",
       "      <td>0.599650</td>\n",
       "      <td>0.587144</td>\n",
       "      <td>0.049178</td>\n",
       "      <td>0.773072</td>\n",
       "      <td>...</td>\n",
       "      <td>0.547196</td>\n",
       "      <td>0.439663</td>\n",
       "      <td>0.029829</td>\n",
       "      <td>0.775030</td>\n",
       "      <td>0.595750</td>\n",
       "      <td>0.597301</td>\n",
       "      <td>0.007230</td>\n",
       "      <td>0.945842</td>\n",
       "      <td>1.000000</td>\n",
       "      <td>0.947414</td>\n",
       "    </tr>\n",
       "    <tr>\n",
       "      <th>dom_b</th>\n",
       "      <td>-0.041969</td>\n",
       "      <td>-0.043771</td>\n",
       "      <td>0.579372</td>\n",
       "      <td>0.571123</td>\n",
       "      <td>0.006049</td>\n",
       "      <td>0.718158</td>\n",
       "      <td>0.558611</td>\n",
       "      <td>0.534554</td>\n",
       "      <td>0.036850</td>\n",
       "      <td>0.697977</td>\n",
       "      <td>...</td>\n",
       "      <td>0.573503</td>\n",
       "      <td>0.524158</td>\n",
       "      <td>0.020951</td>\n",
       "      <td>0.802716</td>\n",
       "      <td>0.577791</td>\n",
       "      <td>0.553136</td>\n",
       "      <td>0.000099</td>\n",
       "      <td>0.889320</td>\n",
       "      <td>0.947414</td>\n",
       "      <td>1.000000</td>\n",
       "    </tr>\n",
       "  </tbody>\n",
       "</table>\n",
       "<p>26 rows × 26 columns</p>\n",
       "</div>"
      ],
      "text/plain": [
       "                id     class     z_max     z_min  z_mm_dst     r_sum  \\\n",
       "id        1.000000  0.994057  0.010814 -0.070130  0.005768 -0.207105   \n",
       "class     0.994057  1.000000  0.010175 -0.063797  0.005881 -0.203034   \n",
       "z_max     0.010814  0.010175  1.000000  0.322553 -0.017135  0.698279   \n",
       "z_min    -0.070130 -0.063797  0.322553  1.000000  0.027775  0.704492   \n",
       "z_mm_dst  0.005768  0.005881 -0.017135  0.027775  1.000000  0.010577   \n",
       "r_sum    -0.207105 -0.203034  0.698279  0.704492  0.010577  1.000000   \n",
       "r_max    -0.070223 -0.068277  0.975150  0.351073 -0.009183  0.744266   \n",
       "r_min    -0.126627 -0.121483  0.345116  0.949906  0.016870  0.757232   \n",
       "r_mm_dst -0.013062 -0.013656  0.017757  0.054887  0.506583  0.063176   \n",
       "r_median -0.213522 -0.208538  0.636506  0.703990  0.010372  0.984802   \n",
       "g_sum    -0.144217 -0.141238  0.712446  0.739786  0.013124  0.958226   \n",
       "g_max     0.028849  0.027815  0.995807  0.314332 -0.018421  0.685847   \n",
       "g_min    -0.092176 -0.084474  0.304161  0.971433  0.039382  0.685366   \n",
       "g_mm_dst -0.003286 -0.002958 -0.035382  0.034408  0.592551  0.010736   \n",
       "g_median -0.152085 -0.147566  0.649802  0.754923  0.013665  0.947515   \n",
       "b_sum    -0.046359 -0.046410  0.704325  0.744089  0.007123  0.887188   \n",
       "b_max     0.096677  0.093525  0.977668  0.277805 -0.024583  0.616383   \n",
       "b_min     0.022901  0.026802  0.189338  0.893556  0.038505  0.480433   \n",
       "b_mm_dst -0.008800 -0.009529 -0.011449  0.042974  0.481010  0.030063   \n",
       "b_median -0.055327 -0.053574  0.640453  0.772729  0.008479  0.885325   \n",
       "lum_max   0.009125  0.008617  0.999054  0.323730 -0.016764  0.701501   \n",
       "lum_min  -0.093646 -0.086348  0.325677  0.988886  0.032440  0.715535   \n",
       "lum_dst   0.018842  0.018667 -0.027571  0.026719  0.753399  0.004754   \n",
       "dom_r    -0.178533 -0.176647  0.594685  0.576078  0.012524  0.849307   \n",
       "dom_g    -0.125607 -0.124678  0.591182  0.584396  0.011915  0.789437   \n",
       "dom_b    -0.041969 -0.043771  0.579372  0.571123  0.006049  0.718158   \n",
       "\n",
       "             r_max     r_min  r_mm_dst  r_median  ...     b_max     b_min  \\\n",
       "id       -0.070223 -0.126627 -0.013062 -0.213522  ...  0.096677  0.022901   \n",
       "class    -0.068277 -0.121483 -0.013656 -0.208538  ...  0.093525  0.026802   \n",
       "z_max     0.975150  0.345116  0.017757  0.636506  ...  0.977668  0.189338   \n",
       "z_min     0.351073  0.949906  0.054887  0.703990  ...  0.277805  0.893556   \n",
       "z_mm_dst -0.009183  0.016870  0.506583  0.010372  ... -0.024583  0.038505   \n",
       "r_sum     0.744266  0.757232  0.063176  0.984802  ...  0.616383  0.480433   \n",
       "r_max     1.000000  0.389714  0.027655  0.683631  ...  0.912456  0.185250   \n",
       "r_min     0.389714  1.000000  0.052076  0.754469  ...  0.279137  0.749368   \n",
       "r_mm_dst  0.027655  0.052076  1.000000  0.062914  ...  0.007287  0.045092   \n",
       "r_median  0.683631  0.754469  0.062914  1.000000  ...  0.555421  0.482684   \n",
       "g_sum     0.732195  0.744850  0.064187  0.935365  ...  0.651155  0.553695   \n",
       "g_max     0.958916  0.335956  0.016567  0.624652  ...  0.980350  0.178287   \n",
       "g_min     0.338282  0.906652  0.064010  0.687517  ...  0.248653  0.838025   \n",
       "g_mm_dst -0.026812  0.027562  0.386938  0.012940  ... -0.045023  0.043289   \n",
       "g_median  0.677601  0.759147  0.065046  0.950075  ...  0.583709  0.567895   \n",
       "b_sum     0.687543  0.698348  0.050091  0.861067  ...  0.690259  0.679396   \n",
       "b_max     0.912456  0.279137  0.007287  0.555421  ...  1.000000  0.194458   \n",
       "b_min     0.185250  0.749368  0.045092  0.482684  ...  0.194458  1.000000   \n",
       "b_mm_dst -0.007234  0.036687  0.336461  0.031182  ... -0.017070  0.052094   \n",
       "b_median  0.632064  0.724252  0.051944  0.885885  ...  0.621214  0.707971   \n",
       "lum_max   0.973578  0.348558  0.018479  0.640008  ...  0.974505  0.183034   \n",
       "lum_min   0.360950  0.942893  0.060715  0.716183  ...  0.269702  0.844378   \n",
       "lum_dst  -0.020221  0.016526  0.439020  0.005869  ... -0.035089  0.037499   \n",
       "dom_r     0.624666  0.618646  0.052024  0.841654  ...  0.532593  0.394880   \n",
       "dom_g     0.599650  0.587144  0.049178  0.773072  ...  0.547196  0.439663   \n",
       "dom_b     0.558611  0.534554  0.036850  0.697977  ...  0.573503  0.524158   \n",
       "\n",
       "          b_mm_dst  b_median   lum_max   lum_min   lum_dst     dom_r  \\\n",
       "id       -0.008800 -0.055327  0.009125 -0.093646  0.018842 -0.178533   \n",
       "class    -0.009529 -0.053574  0.008617 -0.086348  0.018667 -0.176647   \n",
       "z_max    -0.011449  0.640453  0.999054  0.325677 -0.027571  0.594685   \n",
       "z_min     0.042974  0.772729  0.323730  0.988886  0.026719  0.576078   \n",
       "z_mm_dst  0.481010  0.008479 -0.016764  0.032440  0.753399  0.012524   \n",
       "r_sum     0.030063  0.885325  0.701501  0.715535  0.004754  0.849307   \n",
       "r_max    -0.007234  0.632064  0.973578  0.360950 -0.020221  0.624666   \n",
       "r_min     0.036687  0.724252  0.348558  0.942893  0.016526  0.618646   \n",
       "r_mm_dst  0.336461  0.051944  0.018479  0.060715  0.439020  0.052024   \n",
       "r_median  0.031182  0.885885  0.640008  0.716183  0.005869  0.841654   \n",
       "g_sum     0.037502  0.927326  0.717962  0.756612  0.008988  0.817634   \n",
       "g_max    -0.012852  0.633540  0.998048  0.320216 -0.027682  0.586613   \n",
       "g_min     0.053581  0.729475  0.309087  0.992862  0.038821  0.559702   \n",
       "g_mm_dst  0.411859  0.011004 -0.033960  0.037869  0.737988  0.009786   \n",
       "g_median  0.038739  0.930293  0.655556  0.773040  0.011227  0.807888   \n",
       "b_sum     0.030388  0.983641  0.702118  0.721546  0.002503  0.765996   \n",
       "b_max    -0.017070  0.621214  0.974505  0.269702 -0.035089  0.532593   \n",
       "b_min     0.052094  0.707971  0.183034  0.844378  0.037499  0.394880   \n",
       "b_mm_dst  1.000000  0.031790 -0.011435  0.047491  0.413959  0.026769   \n",
       "b_median  0.031790  1.000000  0.638426  0.750714  0.005502  0.763836   \n",
       "lum_max  -0.011435  0.638426  1.000000  0.329587 -0.026571  0.597669   \n",
       "lum_min   0.047491  0.750714  0.329587  1.000000  0.030923  0.584570   \n",
       "lum_dst   0.413959  0.005502 -0.026571  0.030923  1.000000  0.004556   \n",
       "dom_r     0.026769  0.763836  0.597669  0.584570  0.004556  1.000000   \n",
       "dom_g     0.029829  0.775030  0.595750  0.597301  0.007230  0.945842   \n",
       "dom_b     0.020951  0.802716  0.577791  0.553136  0.000099  0.889320   \n",
       "\n",
       "             dom_g     dom_b  \n",
       "id       -0.125607 -0.041969  \n",
       "class    -0.124678 -0.043771  \n",
       "z_max     0.591182  0.579372  \n",
       "z_min     0.584396  0.571123  \n",
       "z_mm_dst  0.011915  0.006049  \n",
       "r_sum     0.789437  0.718158  \n",
       "r_max     0.599650  0.558611  \n",
       "r_min     0.587144  0.534554  \n",
       "r_mm_dst  0.049178  0.036850  \n",
       "r_median  0.773072  0.697977  \n",
       "g_sum     0.828987  0.762992  \n",
       "g_max     0.591425  0.576697  \n",
       "g_min     0.586599  0.536013  \n",
       "g_mm_dst  0.012684  0.002868  \n",
       "g_median  0.813832  0.737099  \n",
       "b_sum     0.785324  0.820388  \n",
       "b_max     0.547196  0.573503  \n",
       "b_min     0.439663  0.524158  \n",
       "b_mm_dst  0.029829  0.020951  \n",
       "b_median  0.775030  0.802716  \n",
       "lum_max   0.595750  0.577791  \n",
       "lum_min   0.597301  0.553136  \n",
       "lum_dst   0.007230  0.000099  \n",
       "dom_r     0.945842  0.889320  \n",
       "dom_g     1.000000  0.947414  \n",
       "dom_b     0.947414  1.000000  \n",
       "\n",
       "[26 rows x 26 columns]"
      ]
     },
     "execution_count": 330,
     "metadata": {},
     "output_type": "execute_result"
    }
   ],
   "source": [
    "df_stat.corr()"
   ]
  },
  {
   "cell_type": "code",
   "execution_count": null,
   "id": "0ee5df18",
   "metadata": {},
   "outputs": [],
   "source": [
    "# Как и ожидалось, параметры сильно коррелируют между собой"
   ]
  },
  {
   "cell_type": "code",
   "execution_count": null,
   "id": "f0c58e7b",
   "metadata": {},
   "outputs": [],
   "source": [
    "plt.imshow(img)\n",
    "plt.show()"
   ]
  },
  {
   "cell_type": "code",
   "execution_count": 331,
   "id": "d87e556a",
   "metadata": {},
   "outputs": [],
   "source": [
    "## End #### MY_DATASETS#####"
   ]
  },
  {
   "cell_type": "code",
   "execution_count": 57,
   "id": "d5189e2e",
   "metadata": {},
   "outputs": [],
   "source": [
    "####### ML #####################"
   ]
  },
  {
   "cell_type": "markdown",
   "id": "92a4b092",
   "metadata": {},
   "source": [
    "### ML"
   ]
  },
  {
   "cell_type": "code",
   "execution_count": 58,
   "id": "21b6967d",
   "metadata": {},
   "outputs": [],
   "source": [
    "def quality_report(prediction, actual, verbose=True):\n",
    "    acc_s = metrics.accuracy_score(actual, prediction)\n",
    "\n",
    "    confusion = metrics.confusion_matrix(actual, prediction)\n",
    "    tn = confusion[0,0]\n",
    "    fn = confusion[1,0]\n",
    "    tp = confusion[1,1]\n",
    "    fp = confusion[0,1]\n",
    "    \n",
    "    #quality_list = [acc_s, roc_auc, f1, tn, fn, tp, fp]\n",
    "    #quality_list = [acc_s, f1, tn, fn, tp, fp]\n",
    "    quality_list = [acc_s, tn, fn, tp, fp]\n",
    "    \n",
    "    if verbose:\n",
    "        report_str = \"Accuracy score: \\t {:.3f}\\n\" +\\\n",
    "                \"TN: \\t {:.3f}\\n\" +\\\n",
    "                \"FN: \\t {:.3f}\\n\" +\\\n",
    "                \"TP: \\t {:.3f}\\n\" +\\\n",
    "                \"FP: \\t {:.3f}\\n\"\n",
    "        print(\"\\n=== Quality Report ===\")\n",
    "        #print(report_str.format(roc_auc, f1, tn, fn, tp, fp))\n",
    "        #print(report_str.format(acc_s, f1, tn, fn, tp, fp))\n",
    "        print(report_str.format(acc_s, tn, fn, tp, fp))\n",
    "        print(\"======================\\n\")\n",
    "    \n",
    "    return quality_list"
   ]
  },
  {
   "cell_type": "code",
   "execution_count": 59,
   "id": "b4ee1425",
   "metadata": {},
   "outputs": [],
   "source": [
    "def class_report(prediction, actual, verbose=True):\n",
    "    sk_report = metrics.classification_report(\n",
    "    digits=3,\n",
    "    y_true=prediction, \n",
    "    y_pred=actual)\n",
    "    \n",
    "    if verbose:\n",
    "        print(sk_report)\n",
    "        \n",
    "    return sk_report"
   ]
  },
  {
   "cell_type": "code",
   "execution_count": 60,
   "id": "573993c4",
   "metadata": {},
   "outputs": [],
   "source": [
    "# yLabels and io_img are arrays of integers\n",
    "x = np.array(raw_images)\n",
    "y = np.array(yLabels)"
   ]
  },
  {
   "cell_type": "markdown",
   "id": "27e4c169",
   "metadata": {},
   "source": [
    "Попробуем разбить наши подготовленные данные на тестовые и валидационные:"
   ]
  },
  {
   "cell_type": "code",
   "execution_count": 61,
   "id": "d3bd6963",
   "metadata": {},
   "outputs": [
    {
     "name": "stdout",
     "output_type": "stream",
     "text": [
      "(10800, 64, 64, 3)\n",
      "(16200, 64, 64, 3)\n"
     ]
    }
   ],
   "source": [
    "#For coloured\n",
    "X_train, X_test, y_train, y_test = train_test_split(x, y, stratify = yLabels, train_size = 0.4, random_state=42)\n",
    "\n",
    "#For Greyscale\n",
    "#X_train, X_test, y_train, y_test = train_test_split(io_img_gs, yLabels, stratify = yLabels, train_size = 0.4, random_state=42)\n",
    "\n",
    "print(X_train.shape)\n",
    "print(X_test.shape)"
   ]
  },
  {
   "cell_type": "code",
   "execution_count": 62,
   "id": "a4c81acc",
   "metadata": {},
   "outputs": [
    {
     "name": "stdout",
     "output_type": "stream",
     "text": [
      "(10800, 64, 64)\n",
      "(16200, 64, 64)\n"
     ]
    }
   ],
   "source": [
    "# GreyScale our images\n",
    "X_train_gs = np.zeros([X_train.shape[0], X_train.shape[1], X_train.shape[2]])\n",
    "X_test_gs = np.zeros([X_test.shape[0], X_test.shape[1], X_test.shape[2]])\n",
    "\n",
    "for i in range(X_train.shape[0]):\n",
    "    X_train_gs[i] = rgb2gray(X_train[i])\n",
    "    \n",
    "for i in range(X_test.shape[0]):\n",
    "    X_test_gs[i] = rgb2gray(X_test[i])\n",
    "\n",
    "print(X_train_gs.shape)\n",
    "print(X_test_gs.shape)\n"
   ]
  },
  {
   "cell_type": "code",
   "execution_count": 63,
   "id": "4a946e50",
   "metadata": {
    "scrolled": true
   },
   "outputs": [
    {
     "name": "stdout",
     "output_type": "stream",
     "text": [
      "b'Forest'\n"
     ]
    },
    {
     "data": {
      "image/png": "[encoded data removed]",
      "text/plain": [
       "<Figure size 160x160 with 1 Axes>"
      ]
     },
     "metadata": {},
     "output_type": "display_data"
    }
   ],
   "source": [
    "# Посмотрим, что у нас получилось\n",
    "tmp2 = 15\n",
    "img = X_train_gs[tmp2]\n",
    "\n",
    "print(label_names[yLabels[tmp2]])\n",
    "\n",
    "plt.imshow(img, cmap='gray'); # Без cmap передаём привет монохромным мониторам"
   ]
  },
  {
   "cell_type": "code",
   "execution_count": 64,
   "id": "b975405d",
   "metadata": {
    "scrolled": true
   },
   "outputs": [
    {
     "name": "stdout",
     "output_type": "stream",
     "text": [
      "[0.36078431 0.4        0.40392157]\n",
      "0.3919494117647059\n"
     ]
    }
   ],
   "source": [
    "print(X_train[1][0,0])\n",
    "print(X_train_gs[1][0,0])"
   ]
  },
  {
   "cell_type": "markdown",
   "id": "d396a7e9",
   "metadata": {},
   "source": [
    "Выглядит неплохо. Замечаем, что при переводе из цветного изображения в черно-белое у нас значения пикселя поменялись с int на float. Но это даже хорошо.\n",
    "\n"
   ]
  },
  {
   "cell_type": "code",
   "execution_count": 65,
   "id": "4c284174",
   "metadata": {
    "scrolled": false
   },
   "outputs": [
    {
     "name": "stdout",
     "output_type": "stream",
     "text": [
      "b'SeaLake'\n"
     ]
    },
    {
     "data": {
      "image/png": "[encoded data removed]",
      "text/plain": [
       "<Figure size 160x160 with 1 Axes>"
      ]
     },
     "metadata": {},
     "output_type": "display_data"
    }
   ],
   "source": [
    "#Посмотрим, что не растеряли лейблы\n",
    "tmp2 = 8000\n",
    "img = X_train[tmp2]\n",
    "\n",
    "print(label_names[y_train[tmp2]])\n",
    "#plt.imshow(img);\n",
    "plt.imshow(img, cmap='gray');"
   ]
  },
  {
   "cell_type": "code",
   "execution_count": 66,
   "id": "1dc2de61",
   "metadata": {},
   "outputs": [
    {
     "name": "stdout",
     "output_type": "stream",
     "text": [
      "(10800, 12288)\n",
      "(16200, 12288)\n"
     ]
    }
   ],
   "source": [
    "#Переводим наши данные в 2D-array\n",
    "X_train_cl = X_train.reshape(X_train.shape[0], X_train.shape[1] * X_train.shape[2] * X_train.shape[3])\n",
    "X_test_cl = X_test.reshape(X_test.shape[0], X_test.shape[1] * X_test.shape[2] * X_test.shape[3])\n",
    "\n",
    "X_train_gs = X_train_gs.reshape(X_train_gs.shape[0], X_train_gs.shape[1] * X_train_gs.shape[2])\n",
    "X_test_gs = X_test_gs.reshape(X_test_gs.shape[0],X_test_gs.shape[1] * X_test_gs.shape[2])\n",
    "print(X_train_cl.shape)\n",
    "print(X_test_cl.shape)"
   ]
  },
  {
   "cell_type": "markdown",
   "id": "7fc82c34",
   "metadata": {},
   "source": [
    "10800 - количество наших картинок в выборке\n",
    "12288 - это 64x64x3 - размер наших изображений в RGB\n",
    "4096 = 64x64 (это размер наших изображений)"
   ]
  },
  {
   "cell_type": "markdown",
   "id": "f06b8c57",
   "metadata": {},
   "source": [
    "#### Обучаем дерево решений для черно-белых изображений"
   ]
  },
  {
   "cell_type": "code",
   "execution_count": 67,
   "id": "c5bb5118",
   "metadata": {},
   "outputs": [
    {
     "name": "stdout",
     "output_type": "stream",
     "text": [
      "0.3545061728395062\n",
      "\n",
      "=== Quality Report ===\n",
      "Accuracy score: \t 0.355\n",
      "TN: \t 623.000\n",
      "FN: \t 11.000\n",
      "TP: \t 1134.000\n",
      "FP: \t 9.000\n",
      "\n",
      "======================\n",
      "\n"
     ]
    }
   ],
   "source": [
    "# инициализируем модель\n",
    "clf = tree.DecisionTreeClassifier(random_state = 42)\n",
    "\n",
    "# обучаем ее на тренировочных данных\n",
    "clf = clf.fit(X_train_gs, y_train)\n",
    "\n",
    "# делаем предсказание для тестовых данных\n",
    "y_pred_gs = clf.predict(X_test_gs)\n",
    "\n",
    "print(metrics.accuracy_score(y_test, y_pred_gs))\n",
    "ql_decision_tree_gs = quality_report(y_pred_gs, y_test);"
   ]
  },
  {
   "cell_type": "code",
   "execution_count": 69,
   "id": "e7c94b4a",
   "metadata": {
    "scrolled": false
   },
   "outputs": [
    {
     "data": {
      "image/png": "[encoded data removed]",
      "text/plain": [
       "<Figure size 1440x960 with 6 Axes>"
      ]
     },
     "metadata": {},
     "output_type": "display_data"
    }
   ],
   "source": [
    "plt.figure(figsize=[18,12])\n",
    "for i in range(6):\n",
    "    plt.subplot(3,2,i+1)\n",
    "    plt.title(\"Label: \"+str(label_names[y_test[i]])+\", prediction: \"+str(label_names[y_pred_gs[i]])) \n",
    "    plt.imshow(X_test_gs[i].reshape([64,64]),cmap='gray');"
   ]
  },
  {
   "cell_type": "markdown",
   "id": "86108dcd",
   "metadata": {},
   "source": [
    "#### Обучим для цветных изображений"
   ]
  },
  {
   "cell_type": "code",
   "execution_count": 558,
   "id": "264de7b3",
   "metadata": {},
   "outputs": [
    {
     "name": "stdout",
     "output_type": "stream",
     "text": [
      "0.43320987654320986\n"
     ]
    }
   ],
   "source": [
    "# инициализируем модель\n",
    "clf = tree.DecisionTreeClassifier(random_state = 42)\n",
    "\n",
    "# обучаем ее на тренировочных данных\n",
    "clf = clf.fit(X_train_cl, y_train)\n",
    "\n",
    "# делаем предсказание для тестовых данных\n",
    "y_pred_cl = clf.predict(X_test_cl)\n",
    "print(metrics.accuracy_score(y_test, y_pred_cl))"
   ]
  },
  {
   "cell_type": "code",
   "execution_count": 521,
   "id": "14ff9e4c",
   "metadata": {
    "scrolled": false
   },
   "outputs": [
    {
     "data": {
      "image/png": "[encoded data removed]",
      "text/plain": [
       "<Figure size 1440x960 with 6 Axes>"
      ]
     },
     "metadata": {},
     "output_type": "display_data"
    }
   ],
   "source": [
    "plt.figure(figsize=[18,12])\n",
    "for i in range(6):\n",
    "    plt.subplot(3,2,i+1)\n",
    "    plt.title(\"Label: \"+str(label_names[y_test[i]])+\", prediction: \"+str(label_names[y_pred[i]])) \n",
    "    plt.imshow(X_test[i].reshape([64,64,3]),cmap='gray');"
   ]
  },
  {
   "cell_type": "markdown",
   "id": "fae9306e",
   "metadata": {},
   "source": [
    "#### Попытаемся найти лучшие параметры для нашего дерева"
   ]
  },
  {
   "cell_type": "code",
   "execution_count": 575,
   "id": "f27e9ccf",
   "metadata": {},
   "outputs": [
    {
     "data": {
      "text/plain": [
       "<function matplotlib.pyplot.show(close=None, block=None)>"
      ]
     },
     "execution_count": 575,
     "metadata": {},
     "output_type": "execute_result"
    },
    {
     "data": {
      "image/png": "[encoded data removed]",
      "text/plain": [
       "<Figure size 960x320 with 1 Axes>"
      ]
     },
     "metadata": {},
     "output_type": "display_data"
    }
   ],
   "source": [
    "max_depths = np.linspace(1, 15, 15, endpoint=True)\n",
    "results = []\n",
    "for max_depth in max_depths:\n",
    "    mdl = tree.DecisionTreeClassifier(max_depth=max_depth)\n",
    "    mdl.fit(X_train_cl, y_train)\n",
    "    test_pred = mdl.predict(X_test_cl)\n",
    "    acc_s = metrics.accuracy_score(y_test, test_pred)\n",
    "    results.append(acc_s)\n",
    "\n",
    "\n",
    "plt.figure(figsize=[12,4])\n",
    "plt.plot(max_depths, results, 'r', label='Test accuracy score')\n",
    "plt.ylabel('Acc score')\n",
    "plt.xlabel('Tree depth')\n",
    "plt.show"
   ]
  },
  {
   "cell_type": "markdown",
   "id": "b9421312",
   "metadata": {},
   "source": [
    "Опытным путём было определено, что лучший max_depth = 11.Посчитаем с ним черно-белую модель:"
   ]
  },
  {
   "cell_type": "code",
   "execution_count": 557,
   "id": "433ef2e1",
   "metadata": {
    "scrolled": true
   },
   "outputs": [
    {
     "name": "stdout",
     "output_type": "stream",
     "text": [
      "0.36061728395061726\n",
      "              precision    recall  f1-score   support\n",
      "\n",
      "           0      0.424     0.333     0.373      2292\n",
      "           1      0.792     0.639     0.707      2231\n",
      "           2      0.292     0.172     0.217      3051\n",
      "           3      0.161     0.203     0.179      1190\n",
      "           4      0.347     0.464     0.397      1124\n",
      "           5      0.280     0.321     0.299      1046\n",
      "           6      0.194     0.192     0.193      1517\n",
      "           7      0.212     0.305     0.250      1251\n",
      "           8      0.275     0.382     0.320      1079\n",
      "           9      0.524     0.665     0.587      1419\n",
      "\n",
      "    accuracy                          0.361     16200\n",
      "   macro avg      0.350     0.368     0.352     16200\n",
      "weighted avg      0.377     0.361     0.361     16200\n",
      "\n"
     ]
    }
   ],
   "source": [
    "# c 11 для Ч/Б\n",
    "# инициализируем модель\n",
    "clf = tree.DecisionTreeClassifier(max_depth=11, random_state=42)\n",
    "\n",
    "# обучаем ее на тренировочных данных\n",
    "clf = clf.fit(X_train_gs, y_train)\n",
    "\n",
    "# делаем предсказание для тестовых данных\n",
    "y_pred_gs = clf.predict(X_test_gs)\n",
    "\n",
    "print(metrics.accuracy_score(y_test, y_pred_gs))\n",
    "class_report(y_pred_gs, y_test);"
   ]
  },
  {
   "cell_type": "code",
   "execution_count": 70,
   "id": "221ae567",
   "metadata": {},
   "outputs": [
    {
     "name": "stdout",
     "output_type": "stream",
     "text": [
      "0.45037037037037037\n",
      "              precision    recall  f1-score   support\n",
      "\n",
      "           0      0.375     0.432     0.402      1562\n",
      "           1      0.735     0.737     0.736      1794\n",
      "           2      0.478     0.297     0.366      2900\n",
      "           3      0.167     0.189     0.177      1325\n",
      "           4      0.447     0.532     0.486      1261\n",
      "           5      0.475     0.492     0.483      1159\n",
      "           6      0.231     0.258     0.244      1347\n",
      "           7      0.342     0.388     0.363      1584\n",
      "           8      0.404     0.422     0.413      1436\n",
      "           9      0.766     0.752     0.759      1832\n",
      "\n",
      "    accuracy                          0.450     16200\n",
      "   macro avg      0.442     0.450     0.443     16200\n",
      "weighted avg      0.461     0.450     0.451     16200\n",
      "\n"
     ]
    }
   ],
   "source": [
    "# c 11 для цветного изображения\n",
    "# инициализируем модель\n",
    "clf = tree.DecisionTreeClassifier(criterion='entropy', max_depth=11, random_state=42)\n",
    "\n",
    "# обучаем ее на тренировочных данных\n",
    "clf = clf.fit(X_train_cl, y_train,)\n",
    "\n",
    "# делаем предсказание для тестовых данных\n",
    "y_pred_cl = clf.predict(X_test_cl)\n",
    "\n",
    "print(metrics.accuracy_score(y_test, y_pred_cl))\n",
    "class_report(y_pred_cl, y_test);"
   ]
  },
  {
   "cell_type": "markdown",
   "id": "b7a7a15c",
   "metadata": {},
   "source": [
    "C criterion='entropy' получается наилучший результат, поэтому оставим его."
   ]
  },
  {
   "cell_type": "code",
   "execution_count": 574,
   "id": "3bf96225",
   "metadata": {
    "scrolled": true
   },
   "outputs": [
    {
     "data": {
      "text/plain": [
       "<function matplotlib.pyplot.show(close=None, block=None)>"
      ]
     },
     "execution_count": 574,
     "metadata": {},
     "output_type": "execute_result"
    },
    {
     "data": {
      "image/png": "[encoded data removed]",
      "text/plain": [
       "<Figure size 960x320 with 1 Axes>"
      ]
     },
     "metadata": {},
     "output_type": "display_data"
    }
   ],
   "source": [
    "#Аналогично можно поиграться с min_samples_leaf\n",
    "\n",
    "#min_leafs = np.linspace(0.1, 2, 20, endpoint=True) так не сработает\n",
    "min_leafs = np.linspace(0.1, 0.5, 5, endpoint=True)\n",
    "test_results = []\n",
    "for min_spl in min_leafs:\n",
    "    dt = tree.DecisionTreeClassifier(min_samples_leaf=min_spl, random_state=42, max_depth=11)\n",
    "    dt.fit(X_train_cl, y_train)\n",
    "    \n",
    "    test_pred = dt.predict(X_test_cl)\n",
    "    acc_s = metrics.accuracy_score(y_test, test_pred)\n",
    "    test_results.append(acc_s)\n",
    "    \n",
    "    \n",
    "plt.figure(figsize=[12,4])\n",
    "plt.plot(min_leafs, test_results, 'b', label='Test min_samples_leaf')\n",
    "plt.ylabel('Acc score')\n",
    "plt.xlabel('min_samples_leaf')\n",
    "plt.show"
   ]
  },
  {
   "cell_type": "markdown",
   "id": "a29e5136",
   "metadata": {},
   "source": [
    "Похоже, тут лучше уже ничего не менять и переходить дальше."
   ]
  },
  {
   "cell_type": "markdown",
   "id": "9d44312a",
   "metadata": {},
   "source": [
    "### Теперь попробуем CVM"
   ]
  },
  {
   "cell_type": "markdown",
   "id": "929bedf2",
   "metadata": {},
   "source": [
    "Сначала на Ч/Б:"
   ]
  },
  {
   "cell_type": "code",
   "execution_count": null,
   "id": "39f9e1e2",
   "metadata": {},
   "outputs": [
    {
     "name": "stdout",
     "output_type": "stream",
     "text": [
      "Fitting 5 folds for each of 32 candidates, totalling 160 fits\n"
     ]
    }
   ],
   "source": [
    "param_grid={'C':[0.1,1,10,100],'gamma':[0.0001,0.001,0.1,1],'kernel':['rbf','poly']}\n",
    "svc=svm.SVC(probability=True)\n",
    "model=GridSearchCV(svc,param_grid, verbose=3, n_jobs=-1)\n",
    "\n",
    "model.fit(X_train_gs,y_train)\n",
    "\n",
    "# Display parameters selected by GridSearchCV for SVM 3 classes\n",
    "print(\"Best parameters to apply are:\",model.best_params_)\n",
    "# Display model after hyperparameter tuning\n",
    "svm = model.best_estimator_\n",
    "print(\"Model after tuning is:\\n\",svm)"
   ]
  },
  {
   "cell_type": "markdown",
   "id": "696f83ed",
   "metadata": {},
   "source": [
    "### Попробуем kNN"
   ]
  },
  {
   "cell_type": "markdown",
   "id": "8d4b52ca",
   "metadata": {},
   "source": [
    "На Ч/Б:"
   ]
  },
  {
   "cell_type": "code",
   "execution_count": 80,
   "id": "111576d0",
   "metadata": {
    "scrolled": true
   },
   "outputs": [
    {
     "name": "stdout",
     "output_type": "stream",
     "text": [
      "0.1998148148148148\n",
      "              precision    recall  f1-score   support\n",
      "\n",
      "           0      0.569     0.263     0.360      3898\n",
      "           1      0.005     0.033     0.009       276\n",
      "           2      0.116     0.141     0.127      1479\n",
      "           3      0.022     0.347     0.041        95\n",
      "           4      0.000     0.000     0.000         0\n",
      "           5      0.032     0.088     0.047       430\n",
      "           6      0.009     0.178     0.017        73\n",
      "           7      0.000     0.000     0.000         1\n",
      "           8      0.103     0.655     0.178       235\n",
      "           9      0.976     0.181     0.305      9713\n",
      "\n",
      "    accuracy                          0.200     16200\n",
      "   macro avg      0.183     0.189     0.108     16200\n",
      "weighted avg      0.735     0.200     0.285     16200\n",
      "\n"
     ]
    },
    {
     "name": "stderr",
     "output_type": "stream",
     "text": [
      "/Users/ruactk1/Developer/.anaconda/anaconda3/lib/python3.9/site-packages/sklearn/metrics/_classification.py:1248: UndefinedMetricWarning: Recall and F-score are ill-defined and being set to 0.0 in labels with no true samples. Use `zero_division` parameter to control this behavior.\n",
      "  _warn_prf(average, modifier, msg_start, len(result))\n",
      "/Users/ruactk1/Developer/.anaconda/anaconda3/lib/python3.9/site-packages/sklearn/metrics/_classification.py:1248: UndefinedMetricWarning: Recall and F-score are ill-defined and being set to 0.0 in labels with no true samples. Use `zero_division` parameter to control this behavior.\n",
      "  _warn_prf(average, modifier, msg_start, len(result))\n",
      "/Users/ruactk1/Developer/.anaconda/anaconda3/lib/python3.9/site-packages/sklearn/metrics/_classification.py:1248: UndefinedMetricWarning: Recall and F-score are ill-defined and being set to 0.0 in labels with no true samples. Use `zero_division` parameter to control this behavior.\n",
      "  _warn_prf(average, modifier, msg_start, len(result))\n"
     ]
    }
   ],
   "source": [
    "# black & white:\n",
    "knn = neighbors.KNeighborsClassifier(n_neighbors=3, n_jobs=3)\n",
    "knn.fit(X_train_gs, y_train)\n",
    "y_pred_knn = knn.predict(X_test_gs)\n",
    "print(metrics.accuracy_score(y_test, y_pred_knn))\n",
    "class_report(y_pred_knn, y_test);"
   ]
  },
  {
   "cell_type": "markdown",
   "id": "1af9e2f5",
   "metadata": {},
   "source": [
    "На цветном изображении"
   ]
  },
  {
   "cell_type": "code",
   "execution_count": 81,
   "id": "a160555f",
   "metadata": {},
   "outputs": [
    {
     "name": "stdout",
     "output_type": "stream",
     "text": [
      "0.3283333333333333\n",
      "              precision    recall  f1-score   support\n",
      "\n",
      "           0      0.594     0.356     0.445      3006\n",
      "           1      0.481     0.637     0.548      1358\n",
      "           2      0.568     0.274     0.370      3734\n",
      "           3      0.033     0.374     0.060       131\n",
      "           4      0.004     1.000     0.008         6\n",
      "           5      0.269     0.501     0.350       645\n",
      "           6      0.027     0.360     0.051       114\n",
      "           7      0.016     0.718     0.030        39\n",
      "           8      0.104     0.732     0.182       213\n",
      "           9      0.977     0.253     0.402      6954\n",
      "\n",
      "    accuracy                          0.328     16200\n",
      "   macro avg      0.307     0.520     0.245     16200\n",
      "weighted avg      0.713     0.328     0.403     16200\n",
      "\n"
     ]
    }
   ],
   "source": [
    "# knn Coloured:\n",
    "knn = neighbors.KNeighborsClassifier(n_neighbors=3, n_jobs=3)\n",
    "knn.fit(X_train_cl, y_train)\n",
    "y_pred_knn_cl = knn.predict(X_test_cl)\n",
    "print(metrics.accuracy_score(y_test, y_pred_knn_cl))\n",
    "class_report(y_pred_knn_cl, y_test);"
   ]
  },
  {
   "cell_type": "markdown",
   "id": "e90c716b",
   "metadata": {},
   "source": [
    "#### Попробуем найти лучший k"
   ]
  },
  {
   "cell_type": "code",
   "execution_count": 87,
   "id": "ce64aed8",
   "metadata": {
    "scrolled": true
   },
   "outputs": [
    {
     "data": {
      "image/png": "[encoded data removed]",
      "text/plain": [
       "<Figure size 960x320 with 1 Axes>"
      ]
     },
     "metadata": {},
     "output_type": "display_data"
    }
   ],
   "source": [
    "k_vars = list(range(1,32,2))\n",
    "results = []\n",
    "for k in k_vars:\n",
    "    knn_search = neighbors.KNeighborsClassifier(n_neighbors=k, n_jobs=3)\n",
    "    scores = cross_val_score(knn_search, X_train_cl, y_train, cv=10, scoring='accuracy')\n",
    "    results.append(scores.mean())\n",
    "    \n",
    "plt.figure(figsize=[12,4])\n",
    "plt.plot(k_vars, results, 'g', label='Test knn best k')\n",
    "plt.ylabel('Acc score')\n",
    "plt.xlabel('knn K value')\n",
    "plt.show()"
   ]
  },
  {
   "cell_type": "code",
   "execution_count": 553,
   "id": "44732b8d",
   "metadata": {},
   "outputs": [],
   "source": [
    "## End #### ML#####"
   ]
  },
  {
   "cell_type": "code",
   "execution_count": null,
   "id": "99002783",
   "metadata": {},
   "outputs": [],
   "source": [
    "#######HISTPLOTS################"
   ]
  },
  {
   "cell_type": "code",
   "execution_count": null,
   "id": "db59b613",
   "metadata": {},
   "outputs": [],
   "source": []
  },
  {
   "cell_type": "code",
   "execution_count": 269,
   "id": "f812ed29",
   "metadata": {},
   "outputs": [
    {
     "data": {
      "text/plain": [
       "(array([0.00014648, 0.00029297, 0.00058594, 0.00109863, 0.00036621,\n",
       "        0.00087891, 0.01259766, 0.02731934, 0.03171387, 0.06467285,\n",
       "        0.02182617, 0.01450195, 0.0112793 , 0.00476074, 0.00395508,\n",
       "        0.00944824, 0.00820313, 0.00622559, 0.00871582, 0.00915527,\n",
       "        0.00791016, 0.01413574, 0.00827637, 0.00710449, 0.0079834 ,\n",
       "        0.00432129, 0.0046875 , 0.00483398, 0.00205078, 0.00095215]),\n",
       " array([ 63.        ,  66.33333333,  69.66666667,  73.        ,\n",
       "         76.33333333,  79.66666667,  83.        ,  86.33333333,\n",
       "         89.66666667,  93.        ,  96.33333333,  99.66666667,\n",
       "        103.        , 106.33333333, 109.66666667, 113.        ,\n",
       "        116.33333333, 119.66666667, 123.        , 126.33333333,\n",
       "        129.66666667, 133.        , 136.33333333, 139.66666667,\n",
       "        143.        , 146.33333333, 149.66666667, 153.        ,\n",
       "        156.33333333, 159.66666667, 163.        ]),\n",
       " <BarContainer object of 30 artists>)"
      ]
     },
     "execution_count": 269,
     "metadata": {},
     "output_type": "execute_result"
    },
    {
     "data": {
      "image/png": "[encoded data removed]",
      "text/plain": [
       "<Figure size 160x160 with 1 Axes>"
      ]
     },
     "metadata": {},
     "output_type": "display_data"
    }
   ],
   "source": [
    "#sb.histplot(data=io_img[10001][:,:,0].flatten())\n",
    "plt.hist(io_img[1001][:,:,1].flatten() , density=True, bins=30)"
   ]
  },
  {
   "cell_type": "code",
   "execution_count": 297,
   "id": "80b28ed9",
   "metadata": {},
   "outputs": [
    {
     "data": {
      "text/plain": [
       "array([[[ 42,  42,  30, ...,  60,  69,  49],\n",
       "        [ 45,  41,  30, ...,  60,  70,  52],\n",
       "        [ 47,  41,  28, ...,  61,  63,  55],\n",
       "        ...,\n",
       "        [ 48, 157,  28, ...,  60,  77,  86],\n",
       "        [ 47, 171,  31, ...,  53,  76,  76],\n",
       "        [ 45, 132,  32, ...,  52,  77,  72]],\n",
       "\n",
       "       [[ 45,  41,  30, ...,  60,  70,  51],\n",
       "        [ 45,  41,  30, ...,  60,  72,  52],\n",
       "        [ 47,  40,  30, ...,  61,  63,  53],\n",
       "        ...,\n",
       "        [ 46, 154,  31, ...,  58,  77,  84],\n",
       "        [ 46, 168,  33, ...,  52,  78,  76],\n",
       "        [ 43, 129,  34, ...,  51,  77,  74]],\n",
       "\n",
       "       [[ 47,  43,  30, ...,  64,  69,  53],\n",
       "        [ 47,  43,  30, ...,  64,  69,  54],\n",
       "        [ 47,  40,  30, ...,  68,  62,  47],\n",
       "        ...,\n",
       "        [ 44, 101,  37, ...,  64,  79,  79],\n",
       "        [ 44, 115,  37, ...,  57,  76,  75],\n",
       "        [ 45, 101,  40, ...,  53,  76,  77]],\n",
       "\n",
       "       ...,\n",
       "\n",
       "       [[ 47,  43,  29, ...,  65,  71,  43],\n",
       "        [ 48,  43,  29, ...,  65,  70,  43],\n",
       "        [ 50,  44,  31, ...,  67,  68,  36],\n",
       "        ...,\n",
       "        [ 50,  44,  33, ...,  50,  87,  50],\n",
       "        [ 48,  44,  31, ...,  54,  85,  51],\n",
       "        [ 49,  44,  29, ...,  58,  81,  52]],\n",
       "\n",
       "       [[ 47,  40,  31, ...,  67,  69,  52],\n",
       "        [ 47,  40,  31, ...,  67,  66,  52],\n",
       "        [ 48,  46,  33, ...,  69,  68,  44],\n",
       "        ...,\n",
       "        [ 49,  45,  36, ...,  58,  89,  53],\n",
       "        [ 46,  41,  33, ...,  58,  84,  52],\n",
       "        [ 49,  44,  33, ...,  55,  83,  51]],\n",
       "\n",
       "       [[ 47,  43,  34, ...,  67,  75,  49],\n",
       "        [ 46,  43,  34, ...,  67,  72,  51],\n",
       "        [ 45,  45,  32, ...,  69,  77,  51],\n",
       "        ...,\n",
       "        [ 47,  42,  34, ...,  62,  87,  54],\n",
       "        [ 47,  43,  38, ...,  62,  85,  48],\n",
       "        [ 49,  43,  34, ...,  61,  84,  48]]], dtype=uint8)"
      ]
     },
     "execution_count": 297,
     "metadata": {},
     "output_type": "execute_result"
    }
   ],
   "source": [
    "pics[:,:,:,0].T"
   ]
  },
  {
   "cell_type": "code",
   "execution_count": 310,
   "id": "b55deddf",
   "metadata": {},
   "outputs": [],
   "source": [
    "    imgs = np.asarray(io);\n",
    "    reds = imgs[:,:,:,0];\n",
    "    reds2 = reds.reshape(*reds.shape[:-2], -1)"
   ]
  },
  {
   "cell_type": "code",
   "execution_count": 311,
   "id": "77c3ff8e",
   "metadata": {},
   "outputs": [
    {
     "data": {
      "text/plain": [
       "(54000, 4096)"
      ]
     },
     "execution_count": 311,
     "metadata": {},
     "output_type": "execute_result"
    }
   ],
   "source": [
    "reds2.shape"
   ]
  },
  {
   "cell_type": "code",
   "execution_count": 163,
   "id": "227c273c",
   "metadata": {},
   "outputs": [
    {
     "data": {
      "text/plain": [
       "384"
      ]
     },
     "execution_count": 163,
     "metadata": {},
     "output_type": "execute_result"
    }
   ],
   "source": [
    "pic = io_img[tmp]\n",
    "#res = pic.reshape(*pic.shape[:-2], -1)\n",
    "res = pic.sum(axis=2)\n",
    "\n",
    "res.shape\n",
    "res[2,2]\n",
    "\n"
   ]
  },
  {
   "cell_type": "code",
   "execution_count": 183,
   "id": "c4061361",
   "metadata": {},
   "outputs": [
    {
     "data": {
      "text/plain": [
       "Array([149, 121, 120], dtype=uint8)"
      ]
     },
     "execution_count": 183,
     "metadata": {},
     "output_type": "execute_result"
    }
   ],
   "source": [
    "pic[0,0]"
   ]
  },
  {
   "cell_type": "code",
   "execution_count": 175,
   "id": "387a2c4f",
   "metadata": {},
   "outputs": [
    {
     "data": {
      "text/plain": [
       "126.8806"
      ]
     },
     "execution_count": 175,
     "metadata": {},
     "output_type": "execute_result"
    }
   ],
   "source": [
    "lum(pic[0,0])"
   ]
  },
  {
   "cell_type": "code",
   "execution_count": 184,
   "id": "4e4c9f4b",
   "metadata": {},
   "outputs": [],
   "source": [
    "k=np.apply_along_axis(lum, 2, pic)"
   ]
  },
  {
   "cell_type": "code",
   "execution_count": 185,
   "id": "50d2bf8f",
   "metadata": {},
   "outputs": [
    {
     "data": {
      "text/plain": [
       "126.8806"
      ]
     },
     "execution_count": 185,
     "metadata": {},
     "output_type": "execute_result"
    }
   ],
   "source": [
    "k[0,0]"
   ]
  },
  {
   "cell_type": "code",
   "execution_count": 200,
   "id": "17075dc9",
   "metadata": {},
   "outputs": [
    {
     "data": {
      "text/plain": [
       "(116, 100, 103)"
      ]
     },
     "execution_count": 200,
     "metadata": {},
     "output_type": "execute_result"
    }
   ],
   "source": [
    "pi = get_dominant_color(pic)\n",
    "pi"
   ]
  },
  {
   "cell_type": "code",
   "execution_count": null,
   "id": "08e2c465",
   "metadata": {},
   "outputs": [],
   "source": []
  }
 ],
 "metadata": {
  "kernelspec": {
   "display_name": "Python 3 (ipykernel)",
   "language": "python",
   "name": "python3"
  },
  "language_info": {
   "codemirror_mode": {
    "name": "ipython",
    "version": 3
   },
   "file_extension": ".py",
   "mimetype": "text/x-python",
   "name": "python",
   "nbconvert_exporter": "python",
   "pygments_lexer": "ipython3",
   "version": "3.9.12"
  }
 },
 "nbformat": 4,
 "nbformat_minor": 5
}
